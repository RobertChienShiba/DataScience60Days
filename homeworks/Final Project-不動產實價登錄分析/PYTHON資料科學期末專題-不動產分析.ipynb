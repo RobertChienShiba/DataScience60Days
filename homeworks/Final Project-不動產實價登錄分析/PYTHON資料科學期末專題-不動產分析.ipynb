{
 "cells": [
  {
   "cell_type": "markdown",
   "metadata": {
    "id": "ecrVHDiuAto7"
   },
   "source": [
    "哈摟，各位資料科學家大家好，我是來自於台北市\"頭期款不足\"的阿宏，我想買房子很久了，但是不知道要買哪個地方，想先從內政部不動產交易時價登入資料中先了解行情，我現在手邊蒐集了台北市Taipei(A_lvr_land_A.csv)、新北市New_Taipei(F_lvr_land_A.csv)、台中市Taichung(B_lvr_land_A.csv)、高雄市Kaohsiung(E_lvr_land_A.csv)共四份資料，請各位資料科學家幫幫忙分析了。"
   ]
  },
  {
   "cell_type": "markdown",
   "metadata": {
    "id": "9_PILIgwAtpW"
   },
   "source": [
    "# 1.不動產資料檔案讀取並串接"
   ]
  },
  {
   "cell_type": "markdown",
   "metadata": {
    "id": "54hz4CgWAtpX"
   },
   "source": [
    "資料分散在4個資料，先合併成一個資料方便後續分析，但是我發現有英文欄位跟中文欄位，留下中文刪除英文，並加入新的欄位用以分辨台北市Taipei、新北市New_Taipei、台中市Taichung、高雄市Kaohsiung"
   ]
  },
  {
   "cell_type": "markdown",
   "metadata": {
    "id": "UAgGy_owAtpY"
   },
   "source": [
    "1. 利用Pandas中的pd.read_csv()分別讀取A_lvr_land_A.csv、B_lvr_land_A.csv、E_lvr_land_A.csv、F_lvr_land_A.csv\n",
    "2. 刪除csv中第二列英文翻譯，The villages and towns urban district,transaction sign,land sector position building sector house number plate,land shifting total area square meter,....\n",
    "3. 生成city欄位其中以地區分類台北市Taipei(A_lvr_land_A.csv)、新北市New_Taipei(F_lvr_land_A.csv)、台中市Taichung(B_lvr_land_A.csv)、高雄市Kaohsiung(E_lvr_land_A.csv)\n",
    "4. 將以上四份資料運用pd.concat()串接"
   ]
  },
  {
   "cell_type": "code",
   "execution_count": 1,
   "metadata": {
    "id": "AtdUcGYAAtpY"
   },
   "outputs": [],
   "source": [
    "import pandas as pd \n",
    "import os \n",
    "import numpy as np"
   ]
  },
  {
   "cell_type": "code",
   "execution_count": 2,
   "metadata": {
    "id": "qaBwVWbkAtpZ"
   },
   "outputs": [
    {
     "data": {
      "text/html": [
       "<div>\n",
       "<style scoped>\n",
       "    .dataframe tbody tr th:only-of-type {\n",
       "        vertical-align: middle;\n",
       "    }\n",
       "\n",
       "    .dataframe tbody tr th {\n",
       "        vertical-align: top;\n",
       "    }\n",
       "\n",
       "    .dataframe thead th {\n",
       "        text-align: right;\n",
       "    }\n",
       "</style>\n",
       "<table border=\"1\" class=\"dataframe\">\n",
       "  <thead>\n",
       "    <tr style=\"text-align: right;\">\n",
       "      <th></th>\n",
       "      <th>鄉鎮市區</th>\n",
       "      <th>交易標的</th>\n",
       "      <th>土地區段位置建物區段門牌</th>\n",
       "      <th>土地移轉總面積平方公尺</th>\n",
       "      <th>都市土地使用分區</th>\n",
       "      <th>非都市土地使用分區</th>\n",
       "      <th>非都市土地使用編定</th>\n",
       "      <th>交易年月日</th>\n",
       "      <th>交易筆棟數</th>\n",
       "      <th>移轉層次</th>\n",
       "      <th>...</th>\n",
       "      <th>車位類別</th>\n",
       "      <th>車位移轉總面積(平方公尺)</th>\n",
       "      <th>車位總價元</th>\n",
       "      <th>備註</th>\n",
       "      <th>編號</th>\n",
       "      <th>主建物面積</th>\n",
       "      <th>附屬建物面積</th>\n",
       "      <th>陽台面積</th>\n",
       "      <th>電梯</th>\n",
       "      <th>City</th>\n",
       "    </tr>\n",
       "  </thead>\n",
       "  <tbody>\n",
       "    <tr>\n",
       "      <th>0</th>\n",
       "      <td>文山區</td>\n",
       "      <td>房地(土地+建物)+車位</td>\n",
       "      <td>臺北市文山區忠順街二段85巷1~30號</td>\n",
       "      <td>26.97</td>\n",
       "      <td>住</td>\n",
       "      <td>NaN</td>\n",
       "      <td>NaN</td>\n",
       "      <td>1090406</td>\n",
       "      <td>土地1建物1車位2</td>\n",
       "      <td>四層</td>\n",
       "      <td>...</td>\n",
       "      <td>坡道平面</td>\n",
       "      <td>40.70</td>\n",
       "      <td>0</td>\n",
       "      <td>含增建或未登記建物。;內含獨立產權車位，未包含在棟數內。</td>\n",
       "      <td>RPVOMLMKNHPFFAA18CA</td>\n",
       "      <td>110.91</td>\n",
       "      <td>9.63</td>\n",
       "      <td>11.09</td>\n",
       "      <td>NaN</td>\n",
       "      <td>臺北市</td>\n",
       "    </tr>\n",
       "    <tr>\n",
       "      <th>1</th>\n",
       "      <td>文山區</td>\n",
       "      <td>房地(土地+建物)</td>\n",
       "      <td>臺北市文山區福興路91~120號</td>\n",
       "      <td>10.32</td>\n",
       "      <td>住</td>\n",
       "      <td>NaN</td>\n",
       "      <td>NaN</td>\n",
       "      <td>1090317</td>\n",
       "      <td>土地1建物1車位0</td>\n",
       "      <td>三層</td>\n",
       "      <td>...</td>\n",
       "      <td>NaN</td>\n",
       "      <td>0.00</td>\n",
       "      <td>0</td>\n",
       "      <td>含增建或未登記建物。;</td>\n",
       "      <td>RPPPMLMKNHPFFAA67CA</td>\n",
       "      <td>24.58</td>\n",
       "      <td>1.28</td>\n",
       "      <td>2.30</td>\n",
       "      <td>NaN</td>\n",
       "      <td>臺北市</td>\n",
       "    </tr>\n",
       "    <tr>\n",
       "      <th>2</th>\n",
       "      <td>文山區</td>\n",
       "      <td>房地(土地+建物)</td>\n",
       "      <td>臺北市文山區木柵路四段121~150號</td>\n",
       "      <td>39.64</td>\n",
       "      <td>其他</td>\n",
       "      <td>NaN</td>\n",
       "      <td>NaN</td>\n",
       "      <td>1090418</td>\n",
       "      <td>土地2建物1車位0</td>\n",
       "      <td>六層</td>\n",
       "      <td>...</td>\n",
       "      <td>NaN</td>\n",
       "      <td>0.00</td>\n",
       "      <td>0</td>\n",
       "      <td>NaN</td>\n",
       "      <td>RPSPMLMKNHPFFAA97CA</td>\n",
       "      <td>78.80</td>\n",
       "      <td>4.15</td>\n",
       "      <td>8.76</td>\n",
       "      <td>NaN</td>\n",
       "      <td>臺北市</td>\n",
       "    </tr>\n",
       "    <tr>\n",
       "      <th>3</th>\n",
       "      <td>中正區</td>\n",
       "      <td>房地(土地+建物)</td>\n",
       "      <td>臺北市中正區和平西路一段31~60號</td>\n",
       "      <td>4.26</td>\n",
       "      <td>商</td>\n",
       "      <td>NaN</td>\n",
       "      <td>NaN</td>\n",
       "      <td>1090413</td>\n",
       "      <td>土地2建物1車位0</td>\n",
       "      <td>九層</td>\n",
       "      <td>...</td>\n",
       "      <td>NaN</td>\n",
       "      <td>0.00</td>\n",
       "      <td>0</td>\n",
       "      <td>含增建或未登記建物。;</td>\n",
       "      <td>RPPOMLMKNHPFFAA57CA</td>\n",
       "      <td>18.34</td>\n",
       "      <td>0.00</td>\n",
       "      <td>6.45</td>\n",
       "      <td>NaN</td>\n",
       "      <td>臺北市</td>\n",
       "    </tr>\n",
       "    <tr>\n",
       "      <th>4</th>\n",
       "      <td>文山區</td>\n",
       "      <td>房地(土地+建物)</td>\n",
       "      <td>臺北市文山區樟新街56巷1~30號</td>\n",
       "      <td>44.57</td>\n",
       "      <td>住</td>\n",
       "      <td>NaN</td>\n",
       "      <td>NaN</td>\n",
       "      <td>1090328</td>\n",
       "      <td>土地3建物1車位0</td>\n",
       "      <td>四層</td>\n",
       "      <td>...</td>\n",
       "      <td>NaN</td>\n",
       "      <td>0.00</td>\n",
       "      <td>0</td>\n",
       "      <td>含增建或未登記建物。;</td>\n",
       "      <td>RPWNMLNKNHPFFAA28CA</td>\n",
       "      <td>98.74</td>\n",
       "      <td>2.26</td>\n",
       "      <td>11.84</td>\n",
       "      <td>NaN</td>\n",
       "      <td>臺北市</td>\n",
       "    </tr>\n",
       "    <tr>\n",
       "      <th>...</th>\n",
       "      <td>...</td>\n",
       "      <td>...</td>\n",
       "      <td>...</td>\n",
       "      <td>...</td>\n",
       "      <td>...</td>\n",
       "      <td>...</td>\n",
       "      <td>...</td>\n",
       "      <td>...</td>\n",
       "      <td>...</td>\n",
       "      <td>...</td>\n",
       "      <td>...</td>\n",
       "      <td>...</td>\n",
       "      <td>...</td>\n",
       "      <td>...</td>\n",
       "      <td>...</td>\n",
       "      <td>...</td>\n",
       "      <td>...</td>\n",
       "      <td>...</td>\n",
       "      <td>...</td>\n",
       "      <td>...</td>\n",
       "      <td>...</td>\n",
       "    </tr>\n",
       "    <tr>\n",
       "      <th>59471</th>\n",
       "      <td>鶯歌區</td>\n",
       "      <td>房地(土地+建物)+車位</td>\n",
       "      <td>國中街91~120號</td>\n",
       "      <td>28.21</td>\n",
       "      <td>其他</td>\n",
       "      <td>NaN</td>\n",
       "      <td>NaN</td>\n",
       "      <td>1080817</td>\n",
       "      <td>土地2建物1車位1</td>\n",
       "      <td>十三層</td>\n",
       "      <td>...</td>\n",
       "      <td>坡道平面</td>\n",
       "      <td>30.31</td>\n",
       "      <td>1100000</td>\n",
       "      <td>預售屋、或土地及建物分次登記案件;</td>\n",
       "      <td>RPXNMLOJRHPFFIF57DA</td>\n",
       "      <td>73.39</td>\n",
       "      <td>2.65</td>\n",
       "      <td>8.52</td>\n",
       "      <td>有</td>\n",
       "      <td>新北市</td>\n",
       "    </tr>\n",
       "    <tr>\n",
       "      <th>59472</th>\n",
       "      <td>三峽區</td>\n",
       "      <td>土地</td>\n",
       "      <td>成福段成福小段331~360地號</td>\n",
       "      <td>762.00</td>\n",
       "      <td>NaN</td>\n",
       "      <td>山坡地保育區</td>\n",
       "      <td>農牧用地</td>\n",
       "      <td>1090814</td>\n",
       "      <td>土地2建物0車位0</td>\n",
       "      <td>NaN</td>\n",
       "      <td>...</td>\n",
       "      <td>NaN</td>\n",
       "      <td>0.00</td>\n",
       "      <td>0</td>\n",
       "      <td>親友、員工、共有人或其他特殊關係間之交易;</td>\n",
       "      <td>RPQNMLRLQHPFFIF27DA</td>\n",
       "      <td>0.00</td>\n",
       "      <td>0.00</td>\n",
       "      <td>0.00</td>\n",
       "      <td>無</td>\n",
       "      <td>新北市</td>\n",
       "    </tr>\n",
       "    <tr>\n",
       "      <th>59473</th>\n",
       "      <td>鶯歌區</td>\n",
       "      <td>房地(土地+建物)+車位</td>\n",
       "      <td>國中街91~120號</td>\n",
       "      <td>28.21</td>\n",
       "      <td>其他</td>\n",
       "      <td>NaN</td>\n",
       "      <td>NaN</td>\n",
       "      <td>1080831</td>\n",
       "      <td>土地2建物1車位1</td>\n",
       "      <td>四層</td>\n",
       "      <td>...</td>\n",
       "      <td>坡道平面</td>\n",
       "      <td>30.31</td>\n",
       "      <td>1400000</td>\n",
       "      <td>預售屋、或土地及建物分次登記案件;</td>\n",
       "      <td>RPSPMLLLQHPFFIF07DA</td>\n",
       "      <td>73.40</td>\n",
       "      <td>2.64</td>\n",
       "      <td>8.52</td>\n",
       "      <td>有</td>\n",
       "      <td>新北市</td>\n",
       "    </tr>\n",
       "    <tr>\n",
       "      <th>59474</th>\n",
       "      <td>鶯歌區</td>\n",
       "      <td>房地(土地+建物)+車位</td>\n",
       "      <td>中山路301~330號</td>\n",
       "      <td>19.85</td>\n",
       "      <td>其他</td>\n",
       "      <td>NaN</td>\n",
       "      <td>NaN</td>\n",
       "      <td>1090809</td>\n",
       "      <td>土地1建物1車位1</td>\n",
       "      <td>七層</td>\n",
       "      <td>...</td>\n",
       "      <td>坡道平面</td>\n",
       "      <td>24.14</td>\n",
       "      <td>0</td>\n",
       "      <td>NaN</td>\n",
       "      <td>RPUOMLRKQHPFFIF67DA</td>\n",
       "      <td>51.72</td>\n",
       "      <td>0.00</td>\n",
       "      <td>5.40</td>\n",
       "      <td>有</td>\n",
       "      <td>新北市</td>\n",
       "    </tr>\n",
       "    <tr>\n",
       "      <th>59475</th>\n",
       "      <td>鶯歌區</td>\n",
       "      <td>房地(土地+建物)+車位</td>\n",
       "      <td>國中街91~120號</td>\n",
       "      <td>26.94</td>\n",
       "      <td>其他</td>\n",
       "      <td>NaN</td>\n",
       "      <td>NaN</td>\n",
       "      <td>1090225</td>\n",
       "      <td>土地2建物1車位1</td>\n",
       "      <td>十一層</td>\n",
       "      <td>...</td>\n",
       "      <td>坡道平面</td>\n",
       "      <td>33.05</td>\n",
       "      <td>1250000</td>\n",
       "      <td>預售屋、或土地及建物分次登記案件;</td>\n",
       "      <td>RPSOMLSJQHPFFIF47DA</td>\n",
       "      <td>69.20</td>\n",
       "      <td>2.42</td>\n",
       "      <td>8.52</td>\n",
       "      <td>有</td>\n",
       "      <td>新北市</td>\n",
       "    </tr>\n",
       "  </tbody>\n",
       "</table>\n",
       "<p>59476 rows × 33 columns</p>\n",
       "</div>"
      ],
      "text/plain": [
       "      鄉鎮市區          交易標的         土地區段位置建物區段門牌  土地移轉總面積平方公尺 都市土地使用分區 非都市土地使用分區  \\\n",
       "0      文山區  房地(土地+建物)+車位  臺北市文山區忠順街二段85巷1~30號        26.97        住       NaN   \n",
       "1      文山區     房地(土地+建物)     臺北市文山區福興路91~120號        10.32        住       NaN   \n",
       "2      文山區     房地(土地+建物)  臺北市文山區木柵路四段121~150號        39.64       其他       NaN   \n",
       "3      中正區     房地(土地+建物)   臺北市中正區和平西路一段31~60號         4.26        商       NaN   \n",
       "4      文山區     房地(土地+建物)    臺北市文山區樟新街56巷1~30號        44.57        住       NaN   \n",
       "...    ...           ...                  ...          ...      ...       ...   \n",
       "59471  鶯歌區  房地(土地+建物)+車位           國中街91~120號        28.21       其他       NaN   \n",
       "59472  三峽區            土地     成福段成福小段331~360地號       762.00      NaN    山坡地保育區   \n",
       "59473  鶯歌區  房地(土地+建物)+車位           國中街91~120號        28.21       其他       NaN   \n",
       "59474  鶯歌區  房地(土地+建物)+車位          中山路301~330號        19.85       其他       NaN   \n",
       "59475  鶯歌區  房地(土地+建物)+車位           國中街91~120號        26.94       其他       NaN   \n",
       "\n",
       "      非都市土地使用編定    交易年月日      交易筆棟數 移轉層次  ...  車位類別 車位移轉總面積(平方公尺)    車位總價元  \\\n",
       "0           NaN  1090406  土地1建物1車位2   四層  ...  坡道平面         40.70        0   \n",
       "1           NaN  1090317  土地1建物1車位0   三層  ...   NaN          0.00        0   \n",
       "2           NaN  1090418  土地2建物1車位0   六層  ...   NaN          0.00        0   \n",
       "3           NaN  1090413  土地2建物1車位0   九層  ...   NaN          0.00        0   \n",
       "4           NaN  1090328  土地3建物1車位0   四層  ...   NaN          0.00        0   \n",
       "...         ...      ...        ...  ...  ...   ...           ...      ...   \n",
       "59471       NaN  1080817  土地2建物1車位1  十三層  ...  坡道平面         30.31  1100000   \n",
       "59472      農牧用地  1090814  土地2建物0車位0  NaN  ...   NaN          0.00        0   \n",
       "59473       NaN  1080831  土地2建物1車位1   四層  ...  坡道平面         30.31  1400000   \n",
       "59474       NaN  1090809  土地1建物1車位1   七層  ...  坡道平面         24.14        0   \n",
       "59475       NaN  1090225  土地2建物1車位1  十一層  ...  坡道平面         33.05  1250000   \n",
       "\n",
       "                                 備註                   編號   主建物面積  附屬建物面積  \\\n",
       "0      含增建或未登記建物。;內含獨立產權車位，未包含在棟數內。  RPVOMLMKNHPFFAA18CA  110.91    9.63   \n",
       "1                       含增建或未登記建物。;  RPPPMLMKNHPFFAA67CA   24.58    1.28   \n",
       "2                               NaN  RPSPMLMKNHPFFAA97CA   78.80    4.15   \n",
       "3                       含增建或未登記建物。;  RPPOMLMKNHPFFAA57CA   18.34    0.00   \n",
       "4                       含增建或未登記建物。;  RPWNMLNKNHPFFAA28CA   98.74    2.26   \n",
       "...                             ...                  ...     ...     ...   \n",
       "59471             預售屋、或土地及建物分次登記案件;  RPXNMLOJRHPFFIF57DA   73.39    2.65   \n",
       "59472         親友、員工、共有人或其他特殊關係間之交易;  RPQNMLRLQHPFFIF27DA    0.00    0.00   \n",
       "59473             預售屋、或土地及建物分次登記案件;  RPSPMLLLQHPFFIF07DA   73.40    2.64   \n",
       "59474                           NaN  RPUOMLRKQHPFFIF67DA   51.72    0.00   \n",
       "59475             預售屋、或土地及建物分次登記案件;  RPSOMLSJQHPFFIF47DA   69.20    2.42   \n",
       "\n",
       "        陽台面積   電梯 City  \n",
       "0      11.09  NaN  臺北市  \n",
       "1       2.30  NaN  臺北市  \n",
       "2       8.76  NaN  臺北市  \n",
       "3       6.45  NaN  臺北市  \n",
       "4      11.84  NaN  臺北市  \n",
       "...      ...  ...  ...  \n",
       "59471   8.52    有  新北市  \n",
       "59472   0.00    無  新北市  \n",
       "59473   8.52    有  新北市  \n",
       "59474   5.40    有  新北市  \n",
       "59475   8.52    有  新北市  \n",
       "\n",
       "[59476 rows x 33 columns]"
      ]
     },
     "execution_count": 2,
     "metadata": {},
     "output_type": "execute_result"
    }
   ],
   "source": [
    "#1.利用Pandas中的pd.read_csv()分別讀取A_lvr_land_A.csv、B_lvr_land_A.csv、E_lvr_land_A.csv、F_lvr_land_A.csv\n",
    "df=pd.DataFrame()\n",
    "for data in os.listdir(\"./data\"):\n",
    "    data=pd.read_csv(f\"./data/{data}\",skiprows=[1])\n",
    "    data[\"City\"]=data[\"土地區段位置建物區段門牌\"][0][:3]\n",
    "    df=pd.concat([df,data],ignore_index=True)\n",
    "df"
   ]
  },
  {
   "cell_type": "markdown",
   "metadata": {
    "id": "vf6GM8Z_Atpb"
   },
   "source": [
    "# 2. 資料清理與切片"
   ]
  },
  {
   "cell_type": "markdown",
   "metadata": {
    "id": "QMPrmISNAtpb"
   },
   "source": [
    "因為我是想買來住的房子，所以幫忙刪除住宿用途以外的資料，並且限制\n",
    "1. 交易年月日，限制在109年\n",
    "2. 建物現況格局-房，1~5間 \n",
    "3. 建物現況格局-廳，1~2廳"
   ]
  },
  {
   "cell_type": "markdown",
   "metadata": {
    "id": "1C-ImCfTAtpc"
   },
   "source": [
    "以下columns_mapping、analysis_columns、columns_type提供給資料科學家配合使用\n",
    "1. 利用.rename()並配合以下columns_mapping，將原中文欄位名稱改為英文方便之後分析\n",
    "2. 取出主要用途(main_use)為'住家用'以及都市土地使用分區(use_zoning)為'住'的資料並針對以下欄位analysis_columns做分析並去除na值\n",
    "   (提示:先取完之後再.dropna())\n",
    "3. 觀察欄位資料型態，並利用.astype()搭配以下提供的columns_type做欄位型態轉換\n",
    "4. 做資料切片將<br>\n",
    "    新增欄位交易年月日(tx_dt_year)，從交易年月日(tx_dt)萃取出年份<br>\n",
    "    1.交易年月日(tx_dt_year)，限制在109年<br>\n",
    "    2.建物現況格局-房(room_number)，限制在1到5間<br>\n",
    "    3.建物現況格局-廳(hall_number)，限制在1到2廳<br>\n",
    "    4.最後運用.reset_index()重新定義索引"
   ]
  },
  {
   "cell_type": "code",
   "execution_count": 3,
   "metadata": {
    "id": "rBSElFmKAtpc"
   },
   "outputs": [],
   "source": [
    "columns_mapping = {'鄉鎮市區':'towns',\n",
    "'交易標的':'transaction_sign',\n",
    "'土地區段位置建物區段門牌':'house_number',\n",
    "'土地移轉總面積平方公尺':'land_area_square_meter', \n",
    "'都市土地使用分區':'use_zoning', \n",
    "'非都市土地使用分區':'land_use_district',\n",
    "'非都市土地使用編定':'land_use',\n",
    "'交易年月日':'tx_dt', \n",
    " '交易筆棟數':'transaction_pen_number', \n",
    " '移轉層次':'shifting_level', \n",
    " '總樓層數':'total_floor_number', \n",
    " '建物型態':'building_state', \n",
    " '主要用途':'main_use', \n",
    " '主要建材':'main_materials',\n",
    " '建築完成年月':'complete_date', \n",
    " '建物移轉總面積平方公尺':'building_area_square_meter', \n",
    " '建物現況格局-房':'room_number', \n",
    " '建物現況格局-廳':'hall_number', \n",
    " '建物現況格局-衛':'health_number', \n",
    "'建物現況格局-隔間':'compartmented_number', \n",
    " '有無管理組織':'manages', \n",
    " '總價元':'total_price', \n",
    " '單價元平方公尺':'unit_price', \n",
    " '車位類別':'berth_category', \n",
    " '車位移轉總面積(平方公尺)':'berth_area_square_meter',\n",
    "'車位總價元':'berth_price', \n",
    " '備註':'note', \n",
    " '編號':'serial_number', \n",
    " '主建物面積':'main_building_area', \n",
    " '附屬建物面積':'auxiliary_building_area', \n",
    " '陽台面積':'balcony_area', \n",
    " '電梯':'elevator'\n",
    "                  }\n",
    "analysis_columns = ['City','towns','main_use','use_zoning','total_price','building_area_square_meter',\n",
    "                                     'main_building_area',\n",
    "                                     'tx_dt','unit_price','room_number','hall_number','health_number']\n",
    "columns_type = {'total_price': 'int','unit_price':'float','building_area_square_meter':'float',\n",
    "                                      'main_building_area': 'float',\n",
    "                                      'room_number': 'int','hall_number': 'int','health_number': 'int'}"
   ]
  },
  {
   "cell_type": "code",
   "execution_count": 4,
   "metadata": {
    "id": "JFrw25keAtpe",
    "scrolled": true
   },
   "outputs": [
    {
     "data": {
      "text/plain": [
       "Index(['towns', 'transaction_sign', 'house_number', 'land_area_square_meter',\n",
       "       'use_zoning', 'land_use_district', 'land_use', 'tx_dt',\n",
       "       'transaction_pen_number', 'shifting_level', 'total_floor_number',\n",
       "       'building_state', 'main_use', 'main_materials', 'complete_date',\n",
       "       'building_area_square_meter', 'room_number', 'hall_number',\n",
       "       'health_number', 'compartmented_number', 'manages', 'total_price',\n",
       "       'unit_price', 'berth_category', 'berth_area_square_meter',\n",
       "       'berth_price', 'note', 'serial_number', 'main_building_area',\n",
       "       'auxiliary_building_area', 'balcony_area', 'elevator', 'City'],\n",
       "      dtype='object')"
      ]
     },
     "execution_count": 4,
     "metadata": {},
     "output_type": "execute_result"
    }
   ],
   "source": [
    "#1. 利用.rename()並配合以下columns_mapping，將原中文欄位名稱改為英文方便之後分析\n",
    "df.rename(columns_mapping,axis=1,inplace=True)\n",
    "df.columns"
   ]
  },
  {
   "cell_type": "code",
   "execution_count": 5,
   "metadata": {
    "id": "GMPSUJFcAtpf"
   },
   "outputs": [
    {
     "name": "stderr",
     "output_type": "stream",
     "text": [
      "C:\\Users\\rober\\anaconda3\\lib\\site-packages\\pandas\\util\\_decorators.py:311: SettingWithCopyWarning: \n",
      "A value is trying to be set on a copy of a slice from a DataFrame\n",
      "\n",
      "See the caveats in the documentation: https://pandas.pydata.org/pandas-docs/stable/user_guide/indexing.html#returning-a-view-versus-a-copy\n",
      "  return func(*args, **kwargs)\n"
     ]
    },
    {
     "data": {
      "text/html": [
       "<div>\n",
       "<style scoped>\n",
       "    .dataframe tbody tr th:only-of-type {\n",
       "        vertical-align: middle;\n",
       "    }\n",
       "\n",
       "    .dataframe tbody tr th {\n",
       "        vertical-align: top;\n",
       "    }\n",
       "\n",
       "    .dataframe thead th {\n",
       "        text-align: right;\n",
       "    }\n",
       "</style>\n",
       "<table border=\"1\" class=\"dataframe\">\n",
       "  <thead>\n",
       "    <tr style=\"text-align: right;\">\n",
       "      <th></th>\n",
       "      <th>towns</th>\n",
       "      <th>transaction_sign</th>\n",
       "      <th>house_number</th>\n",
       "      <th>land_area_square_meter</th>\n",
       "      <th>use_zoning</th>\n",
       "      <th>land_use_district</th>\n",
       "      <th>land_use</th>\n",
       "      <th>tx_dt</th>\n",
       "      <th>transaction_pen_number</th>\n",
       "      <th>shifting_level</th>\n",
       "      <th>...</th>\n",
       "      <th>berth_category</th>\n",
       "      <th>berth_area_square_meter</th>\n",
       "      <th>berth_price</th>\n",
       "      <th>note</th>\n",
       "      <th>serial_number</th>\n",
       "      <th>main_building_area</th>\n",
       "      <th>auxiliary_building_area</th>\n",
       "      <th>balcony_area</th>\n",
       "      <th>elevator</th>\n",
       "      <th>City</th>\n",
       "    </tr>\n",
       "  </thead>\n",
       "  <tbody>\n",
       "    <tr>\n",
       "      <th>0</th>\n",
       "      <td>文山區</td>\n",
       "      <td>房地(土地+建物)+車位</td>\n",
       "      <td>臺北市文山區忠順街二段85巷1~30號</td>\n",
       "      <td>26.97</td>\n",
       "      <td>住</td>\n",
       "      <td>NaN</td>\n",
       "      <td>NaN</td>\n",
       "      <td>1090406</td>\n",
       "      <td>土地1建物1車位2</td>\n",
       "      <td>四層</td>\n",
       "      <td>...</td>\n",
       "      <td>坡道平面</td>\n",
       "      <td>40.7</td>\n",
       "      <td>0</td>\n",
       "      <td>含增建或未登記建物。;內含獨立產權車位，未包含在棟數內。</td>\n",
       "      <td>RPVOMLMKNHPFFAA18CA</td>\n",
       "      <td>110.91</td>\n",
       "      <td>9.63</td>\n",
       "      <td>11.09</td>\n",
       "      <td>NaN</td>\n",
       "      <td>臺北市</td>\n",
       "    </tr>\n",
       "    <tr>\n",
       "      <th>1</th>\n",
       "      <td>文山區</td>\n",
       "      <td>房地(土地+建物)</td>\n",
       "      <td>臺北市文山區福興路91~120號</td>\n",
       "      <td>10.32</td>\n",
       "      <td>住</td>\n",
       "      <td>NaN</td>\n",
       "      <td>NaN</td>\n",
       "      <td>1090317</td>\n",
       "      <td>土地1建物1車位0</td>\n",
       "      <td>三層</td>\n",
       "      <td>...</td>\n",
       "      <td>NaN</td>\n",
       "      <td>0.0</td>\n",
       "      <td>0</td>\n",
       "      <td>含增建或未登記建物。;</td>\n",
       "      <td>RPPPMLMKNHPFFAA67CA</td>\n",
       "      <td>24.58</td>\n",
       "      <td>1.28</td>\n",
       "      <td>2.30</td>\n",
       "      <td>NaN</td>\n",
       "      <td>臺北市</td>\n",
       "    </tr>\n",
       "    <tr>\n",
       "      <th>2</th>\n",
       "      <td>文山區</td>\n",
       "      <td>房地(土地+建物)</td>\n",
       "      <td>臺北市文山區樟新街56巷1~30號</td>\n",
       "      <td>44.57</td>\n",
       "      <td>住</td>\n",
       "      <td>NaN</td>\n",
       "      <td>NaN</td>\n",
       "      <td>1090328</td>\n",
       "      <td>土地3建物1車位0</td>\n",
       "      <td>四層</td>\n",
       "      <td>...</td>\n",
       "      <td>NaN</td>\n",
       "      <td>0.0</td>\n",
       "      <td>0</td>\n",
       "      <td>含增建或未登記建物。;</td>\n",
       "      <td>RPWNMLNKNHPFFAA28CA</td>\n",
       "      <td>98.74</td>\n",
       "      <td>2.26</td>\n",
       "      <td>11.84</td>\n",
       "      <td>NaN</td>\n",
       "      <td>臺北市</td>\n",
       "    </tr>\n",
       "  </tbody>\n",
       "</table>\n",
       "<p>3 rows × 33 columns</p>\n",
       "</div>"
      ],
      "text/plain": [
       "  towns transaction_sign         house_number  land_area_square_meter  \\\n",
       "0   文山區     房地(土地+建物)+車位  臺北市文山區忠順街二段85巷1~30號                   26.97   \n",
       "1   文山區        房地(土地+建物)     臺北市文山區福興路91~120號                   10.32   \n",
       "2   文山區        房地(土地+建物)    臺北市文山區樟新街56巷1~30號                   44.57   \n",
       "\n",
       "  use_zoning land_use_district land_use    tx_dt transaction_pen_number  \\\n",
       "0          住               NaN      NaN  1090406              土地1建物1車位2   \n",
       "1          住               NaN      NaN  1090317              土地1建物1車位0   \n",
       "2          住               NaN      NaN  1090328              土地3建物1車位0   \n",
       "\n",
       "  shifting_level  ... berth_category berth_area_square_meter berth_price  \\\n",
       "0             四層  ...           坡道平面                    40.7           0   \n",
       "1             三層  ...            NaN                     0.0           0   \n",
       "2             四層  ...            NaN                     0.0           0   \n",
       "\n",
       "                           note        serial_number  main_building_area  \\\n",
       "0  含增建或未登記建物。;內含獨立產權車位，未包含在棟數內。  RPVOMLMKNHPFFAA18CA              110.91   \n",
       "1                   含增建或未登記建物。;  RPPPMLMKNHPFFAA67CA               24.58   \n",
       "2                   含增建或未登記建物。;  RPWNMLNKNHPFFAA28CA               98.74   \n",
       "\n",
       "   auxiliary_building_area  balcony_area  elevator City  \n",
       "0                     9.63         11.09       NaN  臺北市  \n",
       "1                     1.28          2.30       NaN  臺北市  \n",
       "2                     2.26         11.84       NaN  臺北市  \n",
       "\n",
       "[3 rows x 33 columns]"
      ]
     },
     "execution_count": 5,
     "metadata": {},
     "output_type": "execute_result"
    }
   ],
   "source": [
    "#2. 取出主要用途(main_use)為'住家用'以及都市土地使用分區(use_zoning)為'住'的資料並針對以下欄位analysis_columns做分析並去除na值 (提示:先取完之後再.dropna())\n",
    "#   (提示:先取完之後再.dropna())\n",
    "df=df[(df[\"main_use\"]==\"住家用\")&(df[\"use_zoning\"]==\"住\")]\n",
    "df.dropna(subset=analysis_columns,inplace=True)\n",
    "df.drop_duplicates(subset=analysis_columns,keep=\"first\",ignore_index=True,inplace=True)\n",
    "df.head(3)"
   ]
  },
  {
   "cell_type": "code",
   "execution_count": 6,
   "metadata": {
    "id": "Y5_BWtUpAtph"
   },
   "outputs": [
    {
     "data": {
      "text/plain": [
       "towns                          object\n",
       "transaction_sign               object\n",
       "house_number                   object\n",
       "land_area_square_meter        float64\n",
       "use_zoning                     object\n",
       "land_use_district              object\n",
       "land_use                       object\n",
       "tx_dt                           int64\n",
       "transaction_pen_number         object\n",
       "shifting_level                 object\n",
       "total_floor_number             object\n",
       "building_state                 object\n",
       "main_use                       object\n",
       "main_materials                 object\n",
       "complete_date                  object\n",
       "building_area_square_meter    float64\n",
       "room_number                     int64\n",
       "hall_number                     int64\n",
       "health_number                   int64\n",
       "compartmented_number           object\n",
       "manages                        object\n",
       "total_price                     int64\n",
       "unit_price                    float64\n",
       "berth_category                 object\n",
       "berth_area_square_meter       float64\n",
       "berth_price                     int64\n",
       "note                           object\n",
       "serial_number                  object\n",
       "main_building_area            float64\n",
       "auxiliary_building_area       float64\n",
       "balcony_area                  float64\n",
       "elevator                       object\n",
       "City                           object\n",
       "dtype: object"
      ]
     },
     "execution_count": 6,
     "metadata": {},
     "output_type": "execute_result"
    }
   ],
   "source": [
    "#3. 觀察欄位資料型態，並利用.astype()搭配以下提供的columns_type做欄位型態轉換\n",
    "df.astype(columns_type)\n",
    "df.dtypes"
   ]
  },
  {
   "cell_type": "code",
   "execution_count": 7,
   "metadata": {
    "id": "AxF8yHDeAtph",
    "scrolled": true
   },
   "outputs": [
    {
     "name": "stderr",
     "output_type": "stream",
     "text": [
      "C:\\Users\\rober\\anaconda3\\lib\\site-packages\\pandas\\core\\frame.py:3607: SettingWithCopyWarning: \n",
      "A value is trying to be set on a copy of a slice from a DataFrame.\n",
      "Try using .loc[row_indexer,col_indexer] = value instead\n",
      "\n",
      "See the caveats in the documentation: https://pandas.pydata.org/pandas-docs/stable/user_guide/indexing.html#returning-a-view-versus-a-copy\n",
      "  self._set_item(key, value)\n"
     ]
    },
    {
     "data": {
      "text/plain": [
       "array([3, 2, 5, 4, 1], dtype=int64)"
      ]
     },
     "execution_count": 7,
     "metadata": {},
     "output_type": "execute_result"
    }
   ],
   "source": [
    "#4. 做資料切片將\n",
    "#     新增欄位交易年月日(tx_dt_year)，從交易年月日(tx_dt)萃取出年份\n",
    "#     1.交易年月日(tx_dt_year)，限制在109年\n",
    "#     2.建物現況格局-房(room_number)，限制在1到5間\n",
    "#     3.建物現況格局-廳(hall_number)，限制在1到2廳\n",
    "#     4.最後運用.reset_index()重新定義索引\n",
    "df[\"tx_dt_year\"]=df[\"tx_dt\"]//10000\n",
    "df=df[df[\"tx_dt_year\"]==109]\n",
    "cond1=(df[\"room_number\"]<=5)&(df[\"room_number\"]>=1)\n",
    "cond2=(df[\"hall_number\"]<=2)&(df[\"hall_number\"]>=1)\n",
    "new_df=df[cond1&(cond2)]\n",
    "new_df.reset_index(drop=True,inplace=True)\n",
    "new_df[\"room_number\"].unique()"
   ]
  },
  {
   "cell_type": "markdown",
   "metadata": {
    "id": "zTOTmNDxAtpi"
   },
   "source": [
    "# 3. 建立自定義特徵加入分析\n"
   ]
  },
  {
   "cell_type": "markdown",
   "metadata": {
    "id": "cyL2au1aAtpi"
   },
   "source": [
    "以台灣來說大家都是以坪為單位計算使用面積，應該是不會問說你家有幾平方公尺吧?，但是偏偏資料中沒有以坪為單位計算，所以接下來請各位幫忙產生新的欄位以坪為單位計算面積，轉換公式我也幫你找好了，在下面的定義。<br>\n",
    "定義 : 1平方公尺相當於0.3025坪 <br>\n",
    "建立新特徵\n",
    "1. 建物移轉總面積坪(building_area_square_feet) : 建物移轉總面積平方公尺\\*0.3025\n",
    "2. 主建物面積坪(main_building_area_square_feet) : 主建物面積\\*0.3025\n",
    "3. 單價元坪(unit_price_square_feet) : 單價元平方公尺/0.3025"
   ]
  },
  {
   "cell_type": "markdown",
   "metadata": {
    "id": "O-BL5boZAtpi"
   },
   "source": [
    "可以利用.describe()做一下資料觀察，是否有奇怪的資料?<br>\n",
    "如果有請將資料移除，並說明為什麼移除此資料?<br>\n",
    "移除後再用.describe()觀察是否還有奇怪的資料?"
   ]
  },
  {
   "cell_type": "code",
   "execution_count": 8,
   "metadata": {
    "id": "vWILawwvAtpj"
   },
   "outputs": [],
   "source": [
    "# 建立新特徵\n",
    "# 1. 建物移轉總面積坪(building_area_square_feet) : 建物移轉總面積平方公尺*0.3025\n",
    "# 2. 主建物面積坪(main_building_area_square_feet) : 主建物面積*0.3025\n",
    "# 3. 單價元坪(unit_price_square_feet) : 單價元平方公尺/0.3025\n",
    "new_df[\"building_area_square_feet\"]=new_df[\"building_area_square_meter\"]*0.3025\n",
    "new_df[\"main_building_area_square_feet\"]=new_df[\"main_building_area\"]*0.3025\n",
    "new_df[\"unit_price_square_feet\"]=new_df[\"unit_price\"]/0.3025"
   ]
  },
  {
   "cell_type": "code",
   "execution_count": 9,
   "metadata": {
    "id": "ZuAZPbnNAtpj",
    "scrolled": true
   },
   "outputs": [
    {
     "name": "stderr",
     "output_type": "stream",
     "text": [
      "C:\\Users\\rober\\anaconda3\\lib\\site-packages\\pandas\\core\\frame.py:4901: SettingWithCopyWarning: \n",
      "A value is trying to be set on a copy of a slice from a DataFrame\n",
      "\n",
      "See the caveats in the documentation: https://pandas.pydata.org/pandas-docs/stable/user_guide/indexing.html#returning-a-view-versus-a-copy\n",
      "  return super().drop(\n"
     ]
    }
   ],
   "source": [
    "# 可以利用.describe()做一下資料觀察，是否有奇怪的資料?\n",
    "# 如果有請將資料移除，並說明為什麼移除此資料?\n",
    "\n",
    "\n",
    "outlier=new_df[(new_df[\"unit_price_square_feet\"]==0)|(new_df[\"main_building_area\"]==0)]\n",
    "#outlier\n",
    "new_df.drop(outlier.index,axis=0,inplace=True)"
   ]
  },
  {
   "cell_type": "code",
   "execution_count": 10,
   "metadata": {
    "id": "qED9ygBDAtpj"
   },
   "outputs": [
    {
     "data": {
      "text/html": [
       "<div>\n",
       "<style scoped>\n",
       "    .dataframe tbody tr th:only-of-type {\n",
       "        vertical-align: middle;\n",
       "    }\n",
       "\n",
       "    .dataframe tbody tr th {\n",
       "        vertical-align: top;\n",
       "    }\n",
       "\n",
       "    .dataframe thead th {\n",
       "        text-align: right;\n",
       "    }\n",
       "</style>\n",
       "<table border=\"1\" class=\"dataframe\">\n",
       "  <thead>\n",
       "    <tr style=\"text-align: right;\">\n",
       "      <th></th>\n",
       "      <th>land_area_square_meter</th>\n",
       "      <th>tx_dt</th>\n",
       "      <th>building_area_square_meter</th>\n",
       "      <th>room_number</th>\n",
       "      <th>hall_number</th>\n",
       "      <th>health_number</th>\n",
       "      <th>total_price</th>\n",
       "      <th>unit_price</th>\n",
       "      <th>berth_area_square_meter</th>\n",
       "      <th>berth_price</th>\n",
       "      <th>main_building_area</th>\n",
       "      <th>auxiliary_building_area</th>\n",
       "      <th>balcony_area</th>\n",
       "      <th>tx_dt_year</th>\n",
       "      <th>building_area_square_feet</th>\n",
       "      <th>main_building_area_square_feet</th>\n",
       "      <th>unit_price_square_feet</th>\n",
       "    </tr>\n",
       "  </thead>\n",
       "  <tbody>\n",
       "    <tr>\n",
       "      <th>count</th>\n",
       "      <td>6842.000000</td>\n",
       "      <td>6.842000e+03</td>\n",
       "      <td>6842.000000</td>\n",
       "      <td>6842.000000</td>\n",
       "      <td>6842.000000</td>\n",
       "      <td>6842.000000</td>\n",
       "      <td>6.842000e+03</td>\n",
       "      <td>6842.000000</td>\n",
       "      <td>6842.000000</td>\n",
       "      <td>6.842000e+03</td>\n",
       "      <td>6842.000000</td>\n",
       "      <td>6842.000000</td>\n",
       "      <td>6842.000000</td>\n",
       "      <td>6842.0</td>\n",
       "      <td>6842.000000</td>\n",
       "      <td>6842.000000</td>\n",
       "      <td>6.842000e+03</td>\n",
       "    </tr>\n",
       "    <tr>\n",
       "      <th>mean</th>\n",
       "      <td>28.516513</td>\n",
       "      <td>1.090463e+06</td>\n",
       "      <td>121.765766</td>\n",
       "      <td>2.849752</td>\n",
       "      <td>1.793481</td>\n",
       "      <td>1.733557</td>\n",
       "      <td>1.141876e+07</td>\n",
       "      <td>94581.933937</td>\n",
       "      <td>6.947002</td>\n",
       "      <td>1.652709e+05</td>\n",
       "      <td>82.557496</td>\n",
       "      <td>4.911893</td>\n",
       "      <td>5.115681</td>\n",
       "      <td>109.0</td>\n",
       "      <td>36.834144</td>\n",
       "      <td>24.973643</td>\n",
       "      <td>3.126676e+05</td>\n",
       "    </tr>\n",
       "    <tr>\n",
       "      <th>std</th>\n",
       "      <td>26.708997</td>\n",
       "      <td>8.590961e+01</td>\n",
       "      <td>62.879509</td>\n",
       "      <td>0.899052</td>\n",
       "      <td>0.404837</td>\n",
       "      <td>0.681074</td>\n",
       "      <td>1.161654e+07</td>\n",
       "      <td>58380.072197</td>\n",
       "      <td>15.701466</td>\n",
       "      <td>7.159143e+05</td>\n",
       "      <td>36.966199</td>\n",
       "      <td>7.796642</td>\n",
       "      <td>6.072709</td>\n",
       "      <td>0.0</td>\n",
       "      <td>19.021051</td>\n",
       "      <td>11.182275</td>\n",
       "      <td>1.929920e+05</td>\n",
       "    </tr>\n",
       "    <tr>\n",
       "      <th>min</th>\n",
       "      <td>1.260000</td>\n",
       "      <td>1.090102e+06</td>\n",
       "      <td>7.440000</td>\n",
       "      <td>1.000000</td>\n",
       "      <td>1.000000</td>\n",
       "      <td>0.000000</td>\n",
       "      <td>4.100000e+05</td>\n",
       "      <td>3239.000000</td>\n",
       "      <td>0.000000</td>\n",
       "      <td>0.000000e+00</td>\n",
       "      <td>7.440000</td>\n",
       "      <td>0.000000</td>\n",
       "      <td>0.000000</td>\n",
       "      <td>109.0</td>\n",
       "      <td>2.250600</td>\n",
       "      <td>2.250600</td>\n",
       "      <td>1.070744e+04</td>\n",
       "    </tr>\n",
       "    <tr>\n",
       "      <th>25%</th>\n",
       "      <td>14.970000</td>\n",
       "      <td>1.090416e+06</td>\n",
       "      <td>83.012500</td>\n",
       "      <td>2.000000</td>\n",
       "      <td>2.000000</td>\n",
       "      <td>1.000000</td>\n",
       "      <td>5.600000e+06</td>\n",
       "      <td>53597.250000</td>\n",
       "      <td>0.000000</td>\n",
       "      <td>0.000000e+00</td>\n",
       "      <td>60.975000</td>\n",
       "      <td>0.000000</td>\n",
       "      <td>0.000000</td>\n",
       "      <td>109.0</td>\n",
       "      <td>25.111281</td>\n",
       "      <td>18.444937</td>\n",
       "      <td>1.771810e+05</td>\n",
       "    </tr>\n",
       "    <tr>\n",
       "      <th>50%</th>\n",
       "      <td>22.575000</td>\n",
       "      <td>1.090503e+06</td>\n",
       "      <td>109.390000</td>\n",
       "      <td>3.000000</td>\n",
       "      <td>2.000000</td>\n",
       "      <td>2.000000</td>\n",
       "      <td>8.600000e+06</td>\n",
       "      <td>79775.000000</td>\n",
       "      <td>0.000000</td>\n",
       "      <td>0.000000e+00</td>\n",
       "      <td>79.090000</td>\n",
       "      <td>1.185000</td>\n",
       "      <td>2.995000</td>\n",
       "      <td>109.0</td>\n",
       "      <td>33.090475</td>\n",
       "      <td>23.924725</td>\n",
       "      <td>2.637190e+05</td>\n",
       "    </tr>\n",
       "    <tr>\n",
       "      <th>75%</th>\n",
       "      <td>31.460000</td>\n",
       "      <td>1.090517e+06</td>\n",
       "      <td>147.445000</td>\n",
       "      <td>3.000000</td>\n",
       "      <td>2.000000</td>\n",
       "      <td>2.000000</td>\n",
       "      <td>1.330000e+07</td>\n",
       "      <td>118908.250000</td>\n",
       "      <td>0.000000</td>\n",
       "      <td>0.000000e+00</td>\n",
       "      <td>95.940000</td>\n",
       "      <td>8.360000</td>\n",
       "      <td>9.470000</td>\n",
       "      <td>109.0</td>\n",
       "      <td>44.602112</td>\n",
       "      <td>29.021850</td>\n",
       "      <td>3.930851e+05</td>\n",
       "    </tr>\n",
       "    <tr>\n",
       "      <th>max</th>\n",
       "      <td>588.550000</td>\n",
       "      <td>1.090802e+06</td>\n",
       "      <td>1444.950000</td>\n",
       "      <td>5.000000</td>\n",
       "      <td>2.000000</td>\n",
       "      <td>6.000000</td>\n",
       "      <td>2.250000e+08</td>\n",
       "      <td>610104.000000</td>\n",
       "      <td>208.380000</td>\n",
       "      <td>1.851000e+07</td>\n",
       "      <td>335.760000</td>\n",
       "      <td>154.100000</td>\n",
       "      <td>48.130000</td>\n",
       "      <td>109.0</td>\n",
       "      <td>437.097375</td>\n",
       "      <td>101.567400</td>\n",
       "      <td>2.016873e+06</td>\n",
       "    </tr>\n",
       "  </tbody>\n",
       "</table>\n",
       "</div>"
      ],
      "text/plain": [
       "       land_area_square_meter         tx_dt  building_area_square_meter  \\\n",
       "count             6842.000000  6.842000e+03                 6842.000000   \n",
       "mean                28.516513  1.090463e+06                  121.765766   \n",
       "std                 26.708997  8.590961e+01                   62.879509   \n",
       "min                  1.260000  1.090102e+06                    7.440000   \n",
       "25%                 14.970000  1.090416e+06                   83.012500   \n",
       "50%                 22.575000  1.090503e+06                  109.390000   \n",
       "75%                 31.460000  1.090517e+06                  147.445000   \n",
       "max                588.550000  1.090802e+06                 1444.950000   \n",
       "\n",
       "       room_number  hall_number  health_number   total_price     unit_price  \\\n",
       "count  6842.000000  6842.000000    6842.000000  6.842000e+03    6842.000000   \n",
       "mean      2.849752     1.793481       1.733557  1.141876e+07   94581.933937   \n",
       "std       0.899052     0.404837       0.681074  1.161654e+07   58380.072197   \n",
       "min       1.000000     1.000000       0.000000  4.100000e+05    3239.000000   \n",
       "25%       2.000000     2.000000       1.000000  5.600000e+06   53597.250000   \n",
       "50%       3.000000     2.000000       2.000000  8.600000e+06   79775.000000   \n",
       "75%       3.000000     2.000000       2.000000  1.330000e+07  118908.250000   \n",
       "max       5.000000     2.000000       6.000000  2.250000e+08  610104.000000   \n",
       "\n",
       "       berth_area_square_meter   berth_price  main_building_area  \\\n",
       "count              6842.000000  6.842000e+03         6842.000000   \n",
       "mean                  6.947002  1.652709e+05           82.557496   \n",
       "std                  15.701466  7.159143e+05           36.966199   \n",
       "min                   0.000000  0.000000e+00            7.440000   \n",
       "25%                   0.000000  0.000000e+00           60.975000   \n",
       "50%                   0.000000  0.000000e+00           79.090000   \n",
       "75%                   0.000000  0.000000e+00           95.940000   \n",
       "max                 208.380000  1.851000e+07          335.760000   \n",
       "\n",
       "       auxiliary_building_area  balcony_area  tx_dt_year  \\\n",
       "count              6842.000000   6842.000000      6842.0   \n",
       "mean                  4.911893      5.115681       109.0   \n",
       "std                   7.796642      6.072709         0.0   \n",
       "min                   0.000000      0.000000       109.0   \n",
       "25%                   0.000000      0.000000       109.0   \n",
       "50%                   1.185000      2.995000       109.0   \n",
       "75%                   8.360000      9.470000       109.0   \n",
       "max                 154.100000     48.130000       109.0   \n",
       "\n",
       "       building_area_square_feet  main_building_area_square_feet  \\\n",
       "count                6842.000000                     6842.000000   \n",
       "mean                   36.834144                       24.973643   \n",
       "std                    19.021051                       11.182275   \n",
       "min                     2.250600                        2.250600   \n",
       "25%                    25.111281                       18.444937   \n",
       "50%                    33.090475                       23.924725   \n",
       "75%                    44.602112                       29.021850   \n",
       "max                   437.097375                      101.567400   \n",
       "\n",
       "       unit_price_square_feet  \n",
       "count            6.842000e+03  \n",
       "mean             3.126676e+05  \n",
       "std              1.929920e+05  \n",
       "min              1.070744e+04  \n",
       "25%              1.771810e+05  \n",
       "50%              2.637190e+05  \n",
       "75%              3.930851e+05  \n",
       "max              2.016873e+06  "
      ]
     },
     "execution_count": 10,
     "metadata": {},
     "output_type": "execute_result"
    }
   ],
   "source": [
    "# 移除後再用.describe()觀察是否還有奇怪的資料?\n",
    "new_df.reset_index(drop=True)\n",
    "new_df.describe()\n"
   ]
  },
  {
   "cell_type": "markdown",
   "metadata": {
    "id": "uRcOUtYPAtpk"
   },
   "source": [
    "# 4. 找出台北市時價登入總價高度相關的變數"
   ]
  },
  {
   "cell_type": "markdown",
   "metadata": {
    "id": "sMgZ6PbwAtpk"
   },
   "source": [
    "阿宏我是台北人他想找出影響台北市總價、單價元坪的因子<br>\n",
    "相關係數0.3以下為低相關，0.3\\~0.7為中等相關，0.7以上為高度相關<br>\n",
    "1. 資料切片切出city欄位為台北市的資料，並找出時價登入總價(total_price)高度相關的變數\n",
    "2. 資料切片切出city欄位為台北市的資料，找出單價元坪(unit_price_square_feet)高度相關的變數"
   ]
  },
  {
   "cell_type": "code",
   "execution_count": 11,
   "metadata": {
    "id": "UZyUNLQzAtpm"
   },
   "outputs": [
    {
     "name": "stdout",
     "output_type": "stream",
     "text": [
      "                          variable      corr corr_rank\n",
      "2       building_area_square_meter  0.865154      High\n",
      "6                      total_price  1.000000      High\n",
      "10              main_building_area  0.711069      High\n",
      "13       building_area_square_feet  0.865154      High\n",
      "14  main_building_area_square_feet  0.711069      High\n",
      "                  variable  corr corr_rank\n",
      "7               unit_price   1.0      High\n",
      "15  unit_price_square_feet   1.0      High\n"
     ]
    }
   ],
   "source": [
    "# 阿宏我是台北人他想找出影響台北市總價、單價元坪的因子\n",
    "# 1. 資料切片切出city欄位為台北市的資料，並找出時價登入總價(total_price)高度相關的變數\n",
    "total_price_corr=new_df[new_df[\"City\"]==\"臺北市\"].corr()[\"total_price\"]\n",
    "total_price_corr.dropna(inplace=True)\n",
    "total_price_corr=total_price_corr.reset_index()\n",
    "total_price_corr.columns=[\"variable\",\"corr\"]\n",
    "total_price_corr[\"corr_rank\"]=pd.cut(np.abs(total_price_corr[\"corr\"]),[0,0.3,0.7,1],labels=[\"Low\",\"Medium\",\"High\"],include_lowest=True)\n",
    "print(total_price_corr[total_price_corr[\"corr_rank\"]==\"High\"])\n",
    "# 2. 資料切片切出city欄位為台北市的資料，找出單價元坪(unit_price_square_feet)高度相關的變數\n",
    "unit_price_corr=new_df[new_df[\"City\"]==\"臺北市\"].corr()[\"unit_price_square_feet\"]\n",
    "unit_price_corr.dropna(inplace=True)\n",
    "unit_price_corr=unit_price_corr.reset_index()\n",
    "unit_price_corr.columns=[\"variable\",\"corr\"]\n",
    "unit_price_corr[\"corr_rank\"]=pd.cut(np.abs(unit_price_corr[\"corr\"]),[0,0.3,0.7,1],labels=[\"Low\",\"Medium\",\"High\"],include_lowest=True)\n",
    "print(unit_price_corr[unit_price_corr[\"corr_rank\"]==\"High\"])"
   ]
  },
  {
   "cell_type": "markdown",
   "metadata": {
    "id": "-y15EpRMAtpm"
   },
   "source": [
    "# 5. 資料視覺化並解釋\n"
   ]
  },
  {
   "cell_type": "markdown",
   "metadata": {
    "id": "TuAbtSFfAtpn"
   },
   "source": [
    "我想要以視覺化的方式來看房價資料，並且請各位資料科學家解釋圖表給阿宏我知道\n",
    "1. 以城市(city)為x軸，以單價元坪(unit_price_square_feet)為y軸畫出boxplot，並找出單價元坪(unit_price_square_feet)中位數最高的地區\n",
    "2. 進一步對台北市的資料做圖，以建物現況格局-房(room_number)為x軸，以總價元(total_price)為y軸畫出boxplot，並找出總價元(total_price)中位數最高的房間數。hint:資料切片找出city欄位為台北市的資料，再進一步畫圖\n",
    "3. 對台北市的資料做圖，先將地區(twons)做編碼在進行，再以地區(twon)為x軸，以單價元坪(unit_price_square_feet)為y軸畫出boxplot，並找出單價元坪(unit_price_square_feet)中位數最高的地區。hint:運用LabelEncoder()對地區(twons)做編碼，運用.inverse_transform()反查編碼的地區"
   ]
  },
  {
   "cell_type": "code",
   "execution_count": 12,
   "metadata": {
    "id": "AeGKqgwIAtpn",
    "scrolled": false
   },
   "outputs": [
    {
     "name": "stderr",
     "output_type": "stream",
     "text": [
      "C:\\Users\\rober\\anaconda3\\lib\\site-packages\\seaborn\\_decorators.py:36: FutureWarning: Pass the following variables as keyword args: x, y. From version 0.12, the only valid positional argument will be `data`, and passing other arguments without an explicit keyword will result in an error or misinterpretation.\n",
      "  warnings.warn(\n"
     ]
    },
    {
     "name": "stdout",
     "output_type": "stream",
     "text": [
      "台北市單價坪(unit_price_square_feet)中位數最高\n"
     ]
    },
    {
     "data": {
      "image/png": "[encoded data removed]",
      "text/plain": [
       "<Figure size 720x432 with 1 Axes>"
      ]
     },
     "metadata": {
      "needs_background": "light"
     },
     "output_type": "display_data"
    }
   ],
   "source": [
    "#1. 以城市(city)為x軸，以單價元坪(unit_price_square_feet)為y軸畫出boxplot，並找出單價元坪(unit_price_square_feet)中位數最高的地區\n",
    "import seaborn as sns\n",
    "import matplotlib.pyplot as plt\n",
    "plt.figure(figsize=(10,6))\n",
    "sns.set(font=['sans-serif'])\n",
    "sns.set_style(\"whitegrid\",{\"font.sans-serif\":['SimHei']})\n",
    "sns.boxplot(\"City\",\"unit_price_square_feet\",data=new_df)\n",
    "plt.axhline(y=new_df[new_df[\"City\"]==\"臺北市\"][\"unit_price_square_feet\"].median(),ls=\"--\",alpha=1,color=\"r\")\n",
    "bbox_props = dict(boxstyle=\"round\", fc=\"w\", ec=\"0.5\", alpha=0.9)\n",
    "plt.text(3.6,new_df[new_df[\"City\"]==\"臺北市\"][\"unit_price_square_feet\"].median(),str(round(new_df[new_df[\"City\"]==\"臺北市\"][\"unit_price_square_feet\"].median(),2)),\n",
    "         bbox=bbox_props,ha=\"left\",va=\"center\")\n",
    "print(\"台北市單價坪(unit_price_square_feet)中位數最高\")"
   ]
  },
  {
   "cell_type": "code",
   "execution_count": 13,
   "metadata": {},
   "outputs": [
    {
     "name": "stdout",
     "output_type": "stream",
     "text": [
      "台北市四間房總價(total_price)中位數最高\n"
     ]
    },
    {
     "name": "stderr",
     "output_type": "stream",
     "text": [
      "C:\\Users\\rober\\anaconda3\\lib\\site-packages\\seaborn\\_decorators.py:36: FutureWarning: Pass the following variables as keyword args: x, y. From version 0.12, the only valid positional argument will be `data`, and passing other arguments without an explicit keyword will result in an error or misinterpretation.\n",
      "  warnings.warn(\n"
     ]
    },
    {
     "data": {
      "image/png": "[encoded data removed]",
      "text/plain": [
       "<Figure size 720x432 with 1 Axes>"
      ]
     },
     "metadata": {},
     "output_type": "display_data"
    }
   ],
   "source": [
    "#2. 進一步對台北市的資料做圖，以建物現況格局-房(room_number)為x軸，以總價元(total_price)為y軸畫出boxplot，並找出總價元(total_price)中位數最高的房間數。hint:資料切片找出city欄位為台北市的資料，再進一步畫圖\n",
    "new_df_taipei=new_df.copy()\n",
    "new_df_taipei=new_df[new_df[\"City\"]==\"臺北市\"]\n",
    "plt.figure(figsize=(10,6))\n",
    "# sns.set(font=['sans-serif'])\n",
    "# sns.set_style(\"whitegrid\",{\"font.sans-serif\":['SimHei']})\n",
    "sns.boxplot(\"room_number\",\"total_price\",data=new_df_taipei,palette=\"coolwarm\")\n",
    "plt.axhline(y=new_df_taipei.groupby(\"room_number\")[\"total_price\"].median().max(),ls=\"--\",alpha=1,color=\"r\")\n",
    "bbox_props = dict(boxstyle=\"round\", fc=\"w\", ec=\"0.5\", alpha=0.9)\n",
    "plt.text(4.6,new_df_taipei.groupby(\"room_number\")[\"total_price\"].median().max(),str(round(new_df_taipei.groupby(\"room_number\")[\"total_price\"].median().max(),2)),\n",
    "         bbox=bbox_props,ha=\"left\",va=\"center\")\n",
    "print(\"台北市四間房總價(total_price)中位數最高\")"
   ]
  },
  {
   "cell_type": "code",
   "execution_count": 14,
   "metadata": {
    "id": "PatbpuqLAtpo"
   },
   "outputs": [
    {
     "name": "stderr",
     "output_type": "stream",
     "text": [
      "C:\\Users\\rober\\anaconda3\\lib\\site-packages\\pandas\\core\\frame.py:3607: SettingWithCopyWarning: \n",
      "A value is trying to be set on a copy of a slice from a DataFrame.\n",
      "Try using .loc[row_indexer,col_indexer] = value instead\n",
      "\n",
      "See the caveats in the documentation: https://pandas.pydata.org/pandas-docs/stable/user_guide/indexing.html#returning-a-view-versus-a-copy\n",
      "  self._set_item(key, value)\n",
      "C:\\Users\\rober\\anaconda3\\lib\\site-packages\\seaborn\\_decorators.py:36: FutureWarning: Pass the following variables as keyword args: x, y. From version 0.12, the only valid positional argument will be `data`, and passing other arguments without an explicit keyword will result in an error or misinterpretation.\n",
      "  warnings.warn(\n"
     ]
    },
    {
     "name": "stdout",
     "output_type": "stream",
     "text": [
      "town_label_encoding\n",
      "8     779585.123967\n",
      "10    659947.107438\n",
      "7     659692.561983\n",
      "Name: unit_price_square_feet, dtype: float64\n",
      "台北市大安區單價坪(unit_price_square_feet)中位數最高\n"
     ]
    },
    {
     "data": {
      "image/png": "[encoded data removed]",
      "text/plain": [
       "<Figure size 720x432 with 1 Axes>"
      ]
     },
     "metadata": {},
     "output_type": "display_data"
    }
   ],
   "source": [
    "#3. 對台北市的資料做圖，先將地區(twons)做編碼在進行，再以地區(twon)為x軸，以單價元坪(unit_price_square_feet)為y軸畫出boxplot，並找出單價元坪(unit_price_square_feet)中位數最高的地區。\n",
    "# hint:運用LabelEncoder()對地區(twons)做編碼，運用.inverse_transform()反查編碼的地區\n",
    "from sklearn.preprocessing import LabelEncoder\n",
    "le=LabelEncoder()\n",
    "new_df_taipei[\"town_label_encoding\"]=le.fit_transform(new_df_taipei[\"towns\"])\n",
    "print(new_df_taipei.groupby(\"town_label_encoding\")[\"unit_price_square_feet\"].median().sort_values(ascending=False).head(3))\n",
    "plt.figure(figsize=(10,6))\n",
    "sns.set(font=['sans-serif'])\n",
    "sns.set_style(\"whitegrid\",{\"font.sans-serif\":['SimHei']})\n",
    "sns.boxplot(\"town_label_encoding\",\"unit_price_square_feet\",data=new_df_taipei)\n",
    "plt.axhline(y=new_df_taipei.groupby(\"town_label_encoding\")[\"unit_price_square_feet\"].median().max(),ls=\"--\",alpha=1,color=\"r\")\n",
    "bbox_props = dict(boxstyle=\"round\", fc=\"w\", ec=\"0.5\", alpha=0.9)\n",
    "plt.text(11.6,new_df_taipei.groupby(\"town_label_encoding\")[\"unit_price_square_feet\"].median().max(),str(round(new_df_taipei.groupby(\"town_label_encoding\")[\"unit_price_square_feet\"].median().max(),2)),\n",
    "         bbox=bbox_props,ha=\"left\",va=\"center\")\n",
    "print(f\"台北市{(le.inverse_transform([8]).tolist()[0])}單價坪(unit_price_square_feet)中位數最高\")"
   ]
  },
  {
   "cell_type": "code",
   "execution_count": null,
   "metadata": {},
   "outputs": [],
   "source": []
  },
  {
   "cell_type": "code",
   "execution_count": null,
   "metadata": {},
   "outputs": [],
   "source": []
  }
 ],
 "metadata": {
  "colab": {
   "name": "不動產分析_習題.ipynb",
   "provenance": []
  },
  "kernelspec": {
   "display_name": "Python 3",
   "language": "python",
   "name": "python3"
  },
  "language_info": {
   "codemirror_mode": {
    "name": "ipython",
    "version": 3
   },
   "file_extension": ".py",
   "mimetype": "text/x-python",
   "name": "python",
   "nbconvert_exporter": "python",
   "pygments_lexer": "ipython3",
   "version": "3.8.5"
  }
 },
 "nbformat": 4,
 "nbformat_minor": 1
}
