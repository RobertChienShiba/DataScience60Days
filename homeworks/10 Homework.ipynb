{
 "cells": [
  {
   "cell_type": "markdown",
   "metadata": {
    "colab_type": "text",
    "id": "P6xk2_jLsvFF"
   },
   "source": [
    "# [作業目標]\n",
    "\n",
    "1. [簡答題] 請問下列四種不同的 DataFrame 選取結果有什麼差異？\n",
    "\n",
    "```\n",
    "df.loc[ '2013-01-01', 'A'] \n",
    "df.loc[ '2013-01-01', ['A', 'B'] ] \n",
    "df.loc[ '2013-01-01':'2013-01-02', 'A' ] \n",
    "df.loc[ '2013-01-01':'2013-01-05', 'A':'C'] \n",
    "```\n",
    "\n",
    "\n",
    "2. 請根據提供的資料，選擇出下列的要求：\n",
    "\n",
    "```\n",
    "# - select the first 3 rows.\n",
    "# - select the odd rows. (index = 1, 3, 5)\n",
    "# - select the last 2 columns.\n",
    "# - select the even columns. (index = 0, 2, 4)\n",
    "```\n",
    "\n",
    "3. 請根據提供的資料，選擇出下列的要求：\n",
    "\n",
    "```\n",
    "# - 1. filtered by first column > 20?\n",
    "# - 2. filtered by first column + second column > 50\n",
    "# - 3. filtered by first column < 30 or second column > 30\n",
    "# - 4. filtered by total sum of row > 100\n",
    "```"
   ]
  },
  {
   "cell_type": "markdown",
   "metadata": {
    "colab_type": "text",
    "id": "uXGll28asvFS"
   },
   "source": [
    "# 作業 "
   ]
  },
  {
   "cell_type": "markdown",
   "metadata": {},
   "source": [
    "### 1. [簡答題] 請問下列四種不同的 DataFrame 選取結果有什麼差異？\n",
    "\n",
    "```\n",
    "df.loc[ '2013-01-01', 'A'] \n",
    "df.loc[ '2013-01-01', ['A', 'B'] ] \n",
    "df.loc[ '2013-01-01':'2013-01-02', 'A' ] \n",
    "df.loc[ '2013-01-01':'2013-01-05', 'A':'C'] \n",
    "```\n",
    "\n",
    "\n",
    "\n"
   ]
  },
  {
   "cell_type": "markdown",
   "metadata": {
    "colab": {},
    "colab_type": "code",
    "id": "5QrYoyNWsvFS"
   },
   "source": [
    "1.df.loc[ '2013-01-01', 'A'] 是找出索引為'2013-01-01',欄位為A的資料,選出的資料型態為數值\n",
    "2.df.loc[ '2013-01-01', ['A', 'B'] ] 是找出索引為'2013-01-01',欄位為A和B的資料,選出的資料型態為series\n",
    "3.df.loc[ '2013-01-01':'2013-01-02', 'A' ] 是找出索引為'2013-01-01',欄位為A的資料,選出的資料型態為series\n",
    "4.df.loc[ '2013-01-01':'2013-01-05', 'A':'C'] 是找出索引從'2013-01-01'到'2013-01-04',欄位從A到B的資料,選出的資料型態為dataframe"
   ]
  },
  {
   "cell_type": "markdown",
   "metadata": {},
   "source": [
    "## 2. 請根據提供的資料，選擇出下列的要求：\n",
    "\n",
    "```\n",
    "# - select the first 3 rows.\n",
    "# - select the odd rows. (index = 1, 3, 5)\n",
    "# - select the last 2 columns.\n",
    "# - select the even columns. (index = 0, 2, 4)\n",
    "```\n"
   ]
  },
  {
   "cell_type": "code",
   "execution_count": 18,
   "metadata": {
    "colab": {},
    "colab_type": "code",
    "id": "e1gVI0tvsvFY"
   },
   "outputs": [
    {
     "name": "stdout",
     "output_type": "stream",
     "text": [
      "       col1      col2      col3\n",
      "0 -0.211858  1.078638  0.365555\n",
      "1 -1.338333  0.334279 -1.055634\n",
      "2  0.417501 -0.180102  1.607943\n",
      "       col1      col2      col3\n",
      "1 -1.338333  0.334279 -1.055634\n",
      "3 -0.842647 -1.740598 -1.272817\n",
      "5 -0.291353  0.227609  1.393407\n",
      "       col2      col3\n",
      "0  1.078638  0.365555\n",
      "1  0.334279 -1.055634\n",
      "2 -0.180102  1.607943\n",
      "3 -1.740598 -1.272817\n",
      "4 -1.138901  0.320557\n",
      "5  0.227609  1.393407\n",
      "       col1      col3\n",
      "0 -0.211858  0.365555\n",
      "2  0.417501  1.607943\n",
      "4 -0.332281  0.320557\n"
     ]
    }
   ],
   "source": [
    "import pandas as pd\n",
    "import numpy as np \n",
    "df = pd.DataFrame(np.random.randn(6,3),columns=['col1','col2','col3'])\n",
    "df\n",
    "# - select the first 3 rows.\n",
    "print(df[:3])\n",
    "print(df[1::2])\n",
    "print(df.iloc[:,-2:])\n",
    "print(df.iloc[[0,2,4],0::2])"
   ]
  },
  {
   "cell_type": "markdown",
   "metadata": {},
   "source": [
    "### 3. 請根據提供的資料，選擇出下列的要求：\n",
    "\n",
    "```\n",
    "# - 1. filtered by first column > 20?\n",
    "# - 2. filtered by first column + second column > 50\n",
    "# - 3. filtered by first column < 30 or second column > 30\n",
    "# - 4. filtered by total sum of row > 100\n",
    "```"
   ]
  },
  {
   "cell_type": "code",
   "execution_count": 22,
   "metadata": {},
   "outputs": [
    {
     "data": {
      "text/html": [
       "<div>\n",
       "<style scoped>\n",
       "    .dataframe tbody tr th:only-of-type {\n",
       "        vertical-align: middle;\n",
       "    }\n",
       "\n",
       "    .dataframe tbody tr th {\n",
       "        vertical-align: top;\n",
       "    }\n",
       "\n",
       "    .dataframe thead th {\n",
       "        text-align: right;\n",
       "    }\n",
       "</style>\n",
       "<table border=\"1\" class=\"dataframe\">\n",
       "  <thead>\n",
       "    <tr style=\"text-align: right;\">\n",
       "      <th></th>\n",
       "      <th>0</th>\n",
       "      <th>1</th>\n",
       "      <th>2</th>\n",
       "      <th>3</th>\n",
       "    </tr>\n",
       "  </thead>\n",
       "  <tbody>\n",
       "    <tr>\n",
       "      <th>0</th>\n",
       "      <td>32</td>\n",
       "      <td>38</td>\n",
       "      <td>24</td>\n",
       "      <td>10</td>\n",
       "    </tr>\n",
       "    <tr>\n",
       "      <th>1</th>\n",
       "      <td>25</td>\n",
       "      <td>27</td>\n",
       "      <td>23</td>\n",
       "      <td>19</td>\n",
       "    </tr>\n",
       "    <tr>\n",
       "      <th>2</th>\n",
       "      <td>25</td>\n",
       "      <td>27</td>\n",
       "      <td>34</td>\n",
       "      <td>18</td>\n",
       "    </tr>\n",
       "    <tr>\n",
       "      <th>3</th>\n",
       "      <td>18</td>\n",
       "      <td>26</td>\n",
       "      <td>39</td>\n",
       "      <td>29</td>\n",
       "    </tr>\n",
       "    <tr>\n",
       "      <th>4</th>\n",
       "      <td>27</td>\n",
       "      <td>36</td>\n",
       "      <td>32</td>\n",
       "      <td>33</td>\n",
       "    </tr>\n",
       "    <tr>\n",
       "      <th>5</th>\n",
       "      <td>19</td>\n",
       "      <td>14</td>\n",
       "      <td>20</td>\n",
       "      <td>28</td>\n",
       "    </tr>\n",
       "    <tr>\n",
       "      <th>6</th>\n",
       "      <td>19</td>\n",
       "      <td>37</td>\n",
       "      <td>23</td>\n",
       "      <td>32</td>\n",
       "    </tr>\n",
       "    <tr>\n",
       "      <th>7</th>\n",
       "      <td>11</td>\n",
       "      <td>32</td>\n",
       "      <td>15</td>\n",
       "      <td>16</td>\n",
       "    </tr>\n",
       "    <tr>\n",
       "      <th>8</th>\n",
       "      <td>15</td>\n",
       "      <td>30</td>\n",
       "      <td>19</td>\n",
       "      <td>27</td>\n",
       "    </tr>\n",
       "    <tr>\n",
       "      <th>9</th>\n",
       "      <td>10</td>\n",
       "      <td>25</td>\n",
       "      <td>21</td>\n",
       "      <td>38</td>\n",
       "    </tr>\n",
       "    <tr>\n",
       "      <th>10</th>\n",
       "      <td>14</td>\n",
       "      <td>14</td>\n",
       "      <td>30</td>\n",
       "      <td>39</td>\n",
       "    </tr>\n",
       "    <tr>\n",
       "      <th>11</th>\n",
       "      <td>24</td>\n",
       "      <td>14</td>\n",
       "      <td>21</td>\n",
       "      <td>34</td>\n",
       "    </tr>\n",
       "    <tr>\n",
       "      <th>12</th>\n",
       "      <td>23</td>\n",
       "      <td>21</td>\n",
       "      <td>16</td>\n",
       "      <td>17</td>\n",
       "    </tr>\n",
       "    <tr>\n",
       "      <th>13</th>\n",
       "      <td>32</td>\n",
       "      <td>13</td>\n",
       "      <td>11</td>\n",
       "      <td>27</td>\n",
       "    </tr>\n",
       "    <tr>\n",
       "      <th>14</th>\n",
       "      <td>22</td>\n",
       "      <td>38</td>\n",
       "      <td>20</td>\n",
       "      <td>39</td>\n",
       "    </tr>\n",
       "  </tbody>\n",
       "</table>\n",
       "</div>"
      ],
      "text/plain": [
       "     0   1   2   3\n",
       "0   32  38  24  10\n",
       "1   25  27  23  19\n",
       "2   25  27  34  18\n",
       "3   18  26  39  29\n",
       "4   27  36  32  33\n",
       "5   19  14  20  28\n",
       "6   19  37  23  32\n",
       "7   11  32  15  16\n",
       "8   15  30  19  27\n",
       "9   10  25  21  38\n",
       "10  14  14  30  39\n",
       "11  24  14  21  34\n",
       "12  23  21  16  17\n",
       "13  32  13  11  27\n",
       "14  22  38  20  39"
      ]
     },
     "execution_count": 22,
     "metadata": {},
     "output_type": "execute_result"
    }
   ],
   "source": [
    "df = pd.DataFrame(np.random.randint(10, 40, 60).reshape(-1, 4))\n",
    "df"
   ]
  },
  {
   "cell_type": "code",
   "execution_count": 34,
   "metadata": {},
   "outputs": [
    {
     "name": "stdout",
     "output_type": "stream",
     "text": [
      "     0   1   2   3\n",
      "0   32  38  24  10\n",
      "1   25  27  23  19\n",
      "2   25  27  34  18\n",
      "4   27  36  32  33\n",
      "11  24  14  21  34\n",
      "12  23  21  16  17\n",
      "13  32  13  11  27\n",
      "14  22  38  20  39\n",
      "     0   1   2   3\n",
      "0   32  38  24  10\n",
      "1   25  27  23  19\n",
      "2   25  27  34  18\n",
      "4   27  36  32  33\n",
      "6   19  37  23  32\n",
      "14  22  38  20  39\n",
      "     0   1   2   3\n",
      "0   32  38  24  10\n",
      "1   25  27  23  19\n",
      "2   25  27  34  18\n",
      "3   18  26  39  29\n",
      "4   27  36  32  33\n",
      "5   19  14  20  28\n",
      "6   19  37  23  32\n",
      "7   11  32  15  16\n",
      "8   15  30  19  27\n",
      "9   10  25  21  38\n",
      "10  14  14  30  39\n",
      "11  24  14  21  34\n",
      "12  23  21  16  17\n",
      "14  22  38  20  39\n",
      "     0   1   2   3\n",
      "0   32  38  24  10\n",
      "2   25  27  34  18\n",
      "3   18  26  39  29\n",
      "4   27  36  32  33\n",
      "6   19  37  23  32\n",
      "14  22  38  20  39\n"
     ]
    }
   ],
   "source": [
    "print(df[df[0]>20])\n",
    "print(df[(df[0]+df[1])>50])\n",
    "print(df[((df[0]<30)|(df[1]>30))])\n",
    "print(df[(df.sum(axis=1))>100])"
   ]
  },
  {
   "cell_type": "code",
   "execution_count": null,
   "metadata": {},
   "outputs": [],
   "source": []
  },
  {
   "cell_type": "code",
   "execution_count": null,
   "metadata": {},
   "outputs": [],
   "source": []
  },
  {
   "cell_type": "code",
   "execution_count": null,
   "metadata": {},
   "outputs": [],
   "source": []
  }
 ],
 "metadata": {
  "colab": {
   "name": "Day_023_HW.ipynb",
   "provenance": []
  },
  "kernelspec": {
   "display_name": "Python 3",
   "language": "python",
   "name": "python3"
  },
  "language_info": {
   "codemirror_mode": {
    "name": "ipython",
    "version": 3
   },
   "file_extension": ".py",
   "mimetype": "text/x-python",
   "name": "python",
   "nbconvert_exporter": "python",
   "pygments_lexer": "ipython3",
   "version": "3.8.5"
  }
 },
 "nbformat": 4,
 "nbformat_minor": 1
}
