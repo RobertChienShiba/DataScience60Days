{
 "cells": [
  {
   "cell_type": "markdown",
   "metadata": {
    "colab_type": "text",
    "id": "P6xk2_jLsvFF"
   },
   "source": [
    "# [作業目標]\n",
    "\n",
    "1. 請比較對一個 100 x 100 * 100 的陣列，使用不同方法對每一個元素 +1 的時間比較。\n",
    "\n",
    "2. 如何從一個陣列中，找出出現頻率最高的數值與位置？\n",
    "\n",
    "3. 如何利用 list(...) 實現 a.tolist() 的效果？試著用程式實作。\n"
   ]
  },
  {
   "cell_type": "markdown",
   "metadata": {
    "colab_type": "text",
    "id": "uXGll28asvFS"
   },
   "source": [
    "# 作業 "
   ]
  },
  {
   "cell_type": "markdown",
   "metadata": {},
   "source": [
    "### 1. 請比較對一個 1000 x 100 x 100 的陣列，使用不同方法對每一個元素 +1 的時間比較。\n",
    "\n",
    "\n"
   ]
  },
  {
   "cell_type": "code",
   "execution_count": 85,
   "metadata": {},
   "outputs": [],
   "source": [
    "# 記得先 Import 正確的套件\n",
    "\n",
    "'''\n",
    "Your Code\n",
    "'''\n",
    "import numpy as np"
   ]
  },
  {
   "cell_type": "code",
   "execution_count": 94,
   "metadata": {
    "colab": {},
    "colab_type": "code",
    "id": "5QrYoyNWsvFS"
   },
   "outputs": [
    {
     "data": {
      "text/plain": [
       "array([[[0, 4, 3, ..., 5, 3, 0],\n",
       "        [1, 1, 9, ..., 4, 6, 6],\n",
       "        [2, 4, 9, ..., 3, 7, 7],\n",
       "        ...,\n",
       "        [6, 2, 6, ..., 2, 6, 1],\n",
       "        [3, 0, 8, ..., 9, 9, 5],\n",
       "        [4, 6, 9, ..., 2, 8, 9]],\n",
       "\n",
       "       [[6, 2, 9, ..., 7, 3, 0],\n",
       "        [5, 9, 6, ..., 8, 3, 0],\n",
       "        [1, 5, 0, ..., 2, 1, 8],\n",
       "        ...,\n",
       "        [0, 8, 3, ..., 1, 1, 8],\n",
       "        [4, 8, 7, ..., 2, 6, 3],\n",
       "        [8, 3, 0, ..., 0, 8, 6]],\n",
       "\n",
       "       [[5, 0, 2, ..., 7, 0, 6],\n",
       "        [7, 1, 5, ..., 2, 4, 5],\n",
       "        [6, 5, 6, ..., 5, 9, 4],\n",
       "        ...,\n",
       "        [9, 1, 2, ..., 0, 4, 9],\n",
       "        [5, 1, 1, ..., 9, 2, 6],\n",
       "        [5, 0, 4, ..., 8, 4, 4]],\n",
       "\n",
       "       ...,\n",
       "\n",
       "       [[5, 5, 7, ..., 7, 1, 9],\n",
       "        [4, 0, 8, ..., 9, 4, 6],\n",
       "        [1, 5, 8, ..., 1, 6, 5],\n",
       "        ...,\n",
       "        [6, 5, 6, ..., 9, 5, 3],\n",
       "        [2, 7, 8, ..., 7, 2, 3],\n",
       "        [6, 9, 8, ..., 4, 2, 1]],\n",
       "\n",
       "       [[9, 5, 9, ..., 0, 9, 3],\n",
       "        [1, 5, 5, ..., 5, 0, 9],\n",
       "        [9, 4, 3, ..., 3, 6, 9],\n",
       "        ...,\n",
       "        [1, 5, 5, ..., 6, 0, 6],\n",
       "        [7, 4, 3, ..., 5, 2, 3],\n",
       "        [5, 5, 4, ..., 4, 9, 0]],\n",
       "\n",
       "       [[7, 7, 2, ..., 2, 0, 0],\n",
       "        [8, 5, 8, ..., 8, 1, 9],\n",
       "        [6, 5, 0, ..., 3, 5, 3],\n",
       "        ...,\n",
       "        [6, 8, 3, ..., 6, 3, 2],\n",
       "        [4, 5, 6, ..., 2, 2, 9],\n",
       "        [3, 5, 9, ..., 1, 7, 8]]])"
      ]
     },
     "execution_count": 94,
     "metadata": {},
     "output_type": "execute_result"
    }
   ],
   "source": [
    "Z = np.random.randint(0, 10, 10000000).reshape(1000, 100, 100)\n",
    "Z"
   ]
  },
  {
   "cell_type": "code",
   "execution_count": 100,
   "metadata": {},
   "outputs": [
    {
     "name": "stdout",
     "output_type": "stream",
     "text": [
      "55.7 ns ± 14 ns per loop (mean ± std. dev. of 7 runs, 10 loops each)\n"
     ]
    }
   ],
   "source": [
    "%timeit -n 10 a = 2\n",
    "\n",
    "'''\n",
    "Your Code\n",
    "'''\n",
    "for k in Z:\n",
    "    for i in k:\n",
    "      i=i+1"
   ]
  },
  {
   "cell_type": "code",
   "execution_count": 101,
   "metadata": {},
   "outputs": [
    {
     "name": "stdout",
     "output_type": "stream",
     "text": [
      "57.1 ns ± 22.5 ns per loop (mean ± std. dev. of 7 runs, 10 loops each)\n"
     ]
    }
   ],
   "source": [
    "%timeit -n 10 a = 2\n",
    "\n",
    "'''\n",
    "Your Code\n",
    "'''\n",
    "for i in Z.ravel():\n",
    "    i=i+1"
   ]
  },
  {
   "cell_type": "code",
   "execution_count": 102,
   "metadata": {},
   "outputs": [
    {
     "name": "stdout",
     "output_type": "stream",
     "text": [
      "44.3 ns ± 15 ns per loop (mean ± std. dev. of 7 runs, 10 loops each)\n"
     ]
    }
   ],
   "source": [
    "%timeit -n 10 a = 2\n",
    "\n",
    "'''\n",
    "Your Code\n",
    "'''\n",
    "for i in np.nditer(Z):\n",
    "    i=i+1"
   ]
  },
  {
   "cell_type": "markdown",
   "metadata": {},
   "source": [
    "### 2. 如何從一個陣列中，找出出現頻率最高的數值與位置？\n"
   ]
  },
  {
   "cell_type": "code",
   "execution_count": 1,
   "metadata": {
    "colab": {},
    "colab_type": "code",
    "id": "e1gVI0tvsvFY"
   },
   "outputs": [
    {
     "name": "stdout",
     "output_type": "stream",
     "text": [
      "[1 3 0 1 2 3 3 3 1 2 4 6 9 7 6 7 2 6 2 5 4 3 4 0 7 8 1 5 6 0 1 0 3 7 6 2 3\n",
      " 0 0 3 9 9 7 6 9 2 4 4 6 6]\n"
     ]
    }
   ],
   "source": [
    "import numpy as np\n",
    "Z = np.random.randint(0,10,50)\n",
    "print(Z)\n"
   ]
  },
  {
   "cell_type": "code",
   "execution_count": 75,
   "metadata": {},
   "outputs": [
    {
     "name": "stdout",
     "output_type": "stream",
     "text": [
      "[3, 6]\n"
     ]
    }
   ],
   "source": [
    "'''\n",
    "Your Code\n",
    "'''\n",
    "# from collections import Counter\n",
    "# counter=Counter(Z)\n",
    "# print(counter.most_common())\n",
    "unique,count=np.unique(Z,return_counts=True)\n",
    "print(list(unique[count==max(count)]))\n"
   ]
  },
  {
   "cell_type": "code",
   "execution_count": 73,
   "metadata": {},
   "outputs": [
    {
     "data": {
      "text/plain": [
       "(array([ 1,  5,  6,  7, 11, 14, 17, 21, 28, 32, 34, 36, 39, 43, 48, 49],\n",
       "       dtype=int64),)"
      ]
     },
     "execution_count": 73,
     "metadata": {},
     "output_type": "execute_result"
    }
   ],
   "source": [
    "'''\n",
    "Your Code\n",
    "'''\n",
    "np.where(np.isin(Z,unique[count==max(count)]))"
   ]
  },
  {
   "cell_type": "markdown",
   "metadata": {},
   "source": [
    "### 3. 如何利用 list(...) 實現 a.tolist() 的效果？試著用程式實作。\n"
   ]
  },
  {
   "cell_type": "code",
   "execution_count": 76,
   "metadata": {},
   "outputs": [
    {
     "name": "stdout",
     "output_type": "stream",
     "text": [
      "[5, 7, 9, 5, 4, 4]\n",
      "[5, 7, 9, 5, 4, 4]\n",
      "[[0, 3, 9, 0], [1, 9, 7, 8], [7, 8, 8, 6]]\n",
      "[array([0, 3, 9, 0]), array([1, 9, 7, 8]), array([7, 8, 8, 6])]\n",
      "[[[0, 1], [7, 9], [3, 2]], [[3, 0], [3, 1], [2, 6]]]\n",
      "[array([[0, 1],\n",
      "       [7, 9],\n",
      "       [3, 2]]), array([[3, 0],\n",
      "       [3, 1],\n",
      "       [2, 6]])]\n"
     ]
    }
   ],
   "source": [
    "a = np.random.randint(10, size=6) \n",
    "\n",
    "print(a.tolist())\n",
    "print(list(a))\n",
    "\n",
    "\n",
    "b = np.random.randint(10, size=(3,4)) \n",
    "\n",
    "print(b.tolist())\n",
    "print(list(b))\n",
    "\n",
    "\n",
    "c = np.random.randint(10, size=(2,3,2)) \n",
    "\n",
    "print(c.tolist())\n",
    "print(list(c))\n"
   ]
  },
  {
   "cell_type": "code",
   "execution_count": 84,
   "metadata": {},
   "outputs": [
    {
     "name": "stdout",
     "output_type": "stream",
     "text": [
      "[5, 7, 9, 5, 4, 4]\n",
      "[[0, 3, 9, 0], [1, 9, 7, 8], [7, 8, 8, 6]]\n",
      "[[[0, 1], [7, 9], [3, 2]], [[3, 0], [3, 1], [2, 6]]]\n"
     ]
    }
   ],
   "source": [
    "'''\n",
    "Your Code\n",
    "'''\n",
    "def to_list(array):\n",
    "    if type(array)!=np.ndarray:\n",
    "        return array\n",
    "    else:\n",
    "        result=[to_list(i)for i in array]\n",
    "        return result\n",
    "           \n",
    "           \n",
    "    \n",
    "print(to_list(a))\n",
    "print(to_list(b))\n",
    "print(to_list(c))"
   ]
  },
  {
   "cell_type": "code",
   "execution_count": null,
   "metadata": {},
   "outputs": [],
   "source": []
  }
 ],
 "metadata": {
  "colab": {
   "name": "Day_023_HW.ipynb",
   "provenance": []
  },
  "kernelspec": {
   "display_name": "Python 3",
   "language": "python",
   "name": "python3"
  },
  "language_info": {
   "codemirror_mode": {
    "name": "ipython",
    "version": 3
   },
   "file_extension": ".py",
   "mimetype": "text/x-python",
   "name": "python",
   "nbconvert_exporter": "python",
   "pygments_lexer": "ipython3",
   "version": "3.8.5"
  }
 },
 "nbformat": 4,
 "nbformat_minor": 1
}
