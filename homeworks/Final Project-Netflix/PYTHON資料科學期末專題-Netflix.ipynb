{
 "cells": [
  {
   "cell_type": "markdown",
   "metadata": {
    "id": "djs9GiVVxoOd"
   },
   "source": [
    "# PYTHON 資料科學期末專題 (二)\n",
    "\n",
    "[提示]\n",
    "\n",
    "用Pandas讀入時有時需要注意encoding參數\n",
    "\n",
    "1.1 引入 Pandas Profiling\n",
    "\n",
    "1.2 需要注意異常值與缺失值的處理, 注意資料區間, 評估值區間差異過大的問題\n",
    "\n",
    "1.3 資料的分類, 以期可以分別繪製比對圖形; \n",
    "\n",
    "[基本目標]\n",
    "\n",
    "把 Netflix 的資訊分門別列出來\n",
    "\n",
    "\n",
    "[進階目標]\n",
    "\n",
    "畫出Heatmap 與 文字雲(找出最多人看的影片)"
   ]
  },
  {
   "cell_type": "markdown",
   "metadata": {
    "id": "P_KotjdQxoOh"
   },
   "source": [
    "# 參考範例\n",
    "\n",
    "同學可以參照範例執行, 有問題隨時提問"
   ]
  },
  {
   "cell_type": "code",
   "execution_count": 1,
   "metadata": {
    "id": "IsMUzA0RxoOi",
    "outputId": "fc7e83a4-e86e-4698-9fe7-0263c98110d1"
   },
   "outputs": [
    {
     "name": "stdout",
     "output_type": "stream",
     "text": [
      "Requirement already satisfied: pandas_profiling in c:\\users\\rober\\anaconda3\\lib\\site-packages (3.0.0)\n",
      "Requirement already satisfied: requests>=2.24.0 in c:\\users\\rober\\anaconda3\\lib\\site-packages (from pandas_profiling) (2.24.0)\n",
      "Requirement already satisfied: seaborn>=0.10.1 in c:\\users\\rober\\anaconda3\\lib\\site-packages (from pandas_profiling) (0.11.1)\n",
      "Requirement already satisfied: joblib in c:\\users\\rober\\anaconda3\\lib\\site-packages (from pandas_profiling) (0.17.0)\n",
      "Requirement already satisfied: matplotlib>=3.2.0 in c:\\users\\rober\\anaconda3\\lib\\site-packages (from pandas_profiling) (3.3.2)\n",
      "Requirement already satisfied: phik>=0.11.1 in c:\\users\\rober\\anaconda3\\lib\\site-packages (from pandas_profiling) (0.12.0)\n",
      "Requirement already satisfied: pandas!=1.0.0,!=1.0.1,!=1.0.2,!=1.1.0,>=0.25.3 in c:\\users\\rober\\anaconda3\\lib\\site-packages (from pandas_profiling) (1.3.0)\n",
      "Requirement already satisfied: pydantic>=1.8.1 in c:\\users\\rober\\anaconda3\\lib\\site-packages (from pandas_profiling) (1.8.2)\n",
      "Requirement already satisfied: scipy>=1.4.1 in c:\\users\\rober\\anaconda3\\lib\\site-packages (from pandas_profiling) (1.5.2)\n",
      "Requirement already satisfied: htmlmin>=0.1.12 in c:\\users\\rober\\anaconda3\\lib\\site-packages (from pandas_profiling) (0.1.12)\n",
      "Requirement already satisfied: missingno>=0.4.2 in c:\\users\\rober\\anaconda3\\lib\\site-packages (from pandas_profiling) (0.5.0)\n",
      "Requirement already satisfied: visions[type_image_path]==0.7.1 in c:\\users\\rober\\anaconda3\\lib\\site-packages (from pandas_profiling) (0.7.1)\n",
      "Requirement already satisfied: tqdm>=4.48.2 in c:\\users\\rober\\anaconda3\\lib\\site-packages (from pandas_profiling) (4.50.2)\n",
      "Requirement already satisfied: PyYAML>=5.0.0 in c:\\users\\rober\\anaconda3\\lib\\site-packages (from pandas_profiling) (5.3.1)\n",
      "Requirement already satisfied: tangled-up-in-unicode==0.1.0 in c:\\users\\rober\\anaconda3\\lib\\site-packages (from pandas_profiling) (0.1.0)\n",
      "Requirement already satisfied: numpy>=1.16.0 in c:\\users\\rober\\anaconda3\\lib\\site-packages (from pandas_profiling) (1.21.0)\n",
      "Requirement already satisfied: jinja2>=2.11.1 in c:\\users\\rober\\anaconda3\\lib\\site-packages (from pandas_profiling) (2.11.2)\n",
      "Requirement already satisfied: urllib3!=1.25.0,!=1.25.1,<1.26,>=1.21.1 in c:\\users\\rober\\anaconda3\\lib\\site-packages (from requests>=2.24.0->pandas_profiling) (1.25.11)\n",
      "Requirement already satisfied: chardet<4,>=3.0.2 in c:\\users\\rober\\anaconda3\\lib\\site-packages (from requests>=2.24.0->pandas_profiling) (3.0.4)\n",
      "Requirement already satisfied: idna<3,>=2.5 in c:\\users\\rober\\anaconda3\\lib\\site-packages (from requests>=2.24.0->pandas_profiling) (2.10)\n",
      "Requirement already satisfied: certifi>=2017.4.17 in c:\\users\\rober\\anaconda3\\lib\\site-packages (from requests>=2.24.0->pandas_profiling) (2020.6.20)\n",
      "Requirement already satisfied: cycler>=0.10 in c:\\users\\rober\\anaconda3\\lib\\site-packages (from matplotlib>=3.2.0->pandas_profiling) (0.10.0)\n",
      "Requirement already satisfied: pyparsing!=2.0.4,!=2.1.2,!=2.1.6,>=2.0.3 in c:\\users\\rober\\anaconda3\\lib\\site-packages (from matplotlib>=3.2.0->pandas_profiling) (2.4.7)\n",
      "Requirement already satisfied: pillow>=6.2.0 in c:\\users\\rober\\anaconda3\\lib\\site-packages (from matplotlib>=3.2.0->pandas_profiling) (8.0.1)\n",
      "Requirement already satisfied: kiwisolver>=1.0.1 in c:\\users\\rober\\anaconda3\\lib\\site-packages (from matplotlib>=3.2.0->pandas_profiling) (1.3.0)\n",
      "Requirement already satisfied: python-dateutil>=2.1 in c:\\users\\rober\\anaconda3\\lib\\site-packages (from matplotlib>=3.2.0->pandas_profiling) (2.8.1)\n",
      "Requirement already satisfied: pytz>=2017.3 in c:\\users\\rober\\anaconda3\\lib\\site-packages (from pandas!=1.0.0,!=1.0.1,!=1.0.2,!=1.1.0,>=0.25.3->pandas_profiling) (2020.1)\n",
      "Requirement already satisfied: typing-extensions>=3.7.4.3 in c:\\users\\rober\\anaconda3\\lib\\site-packages (from pydantic>=1.8.1->pandas_profiling) (3.7.4.3)\n",
      "Requirement already satisfied: bottleneck in c:\\users\\rober\\anaconda3\\lib\\site-packages (from visions[type_image_path]==0.7.1->pandas_profiling) (1.3.2)\n",
      "Requirement already satisfied: multimethod==1.4 in c:\\users\\rober\\anaconda3\\lib\\site-packages (from visions[type_image_path]==0.7.1->pandas_profiling) (1.4)\n",
      "Requirement already satisfied: networkx>=2.4 in c:\\users\\rober\\anaconda3\\lib\\site-packages (from visions[type_image_path]==0.7.1->pandas_profiling) (2.5)\n",
      "Requirement already satisfied: attrs>=19.3.0 in c:\\users\\rober\\anaconda3\\lib\\site-packages (from visions[type_image_path]==0.7.1->pandas_profiling) (20.3.0)\n",
      "Requirement already satisfied: imagehash; extra == \"type_image_path\" in c:\\users\\rober\\anaconda3\\lib\\site-packages (from visions[type_image_path]==0.7.1->pandas_profiling) (4.2.1)\n",
      "Requirement already satisfied: MarkupSafe>=0.23 in c:\\users\\rober\\anaconda3\\lib\\site-packages (from jinja2>=2.11.1->pandas_profiling) (1.1.1)\n",
      "Requirement already satisfied: six in c:\\users\\rober\\anaconda3\\lib\\site-packages (from cycler>=0.10->matplotlib>=3.2.0->pandas_profiling) (1.15.0)\n",
      "Requirement already satisfied: decorator>=4.3.0 in c:\\users\\rober\\anaconda3\\lib\\site-packages (from networkx>=2.4->visions[type_image_path]==0.7.1->pandas_profiling) (4.4.2)\n",
      "Requirement already satisfied: PyWavelets in c:\\users\\rober\\anaconda3\\lib\\site-packages (from imagehash; extra == \"type_image_path\"->visions[type_image_path]==0.7.1->pandas_profiling) (1.1.1)\n"
     ]
    }
   ],
   "source": [
    "!pip install pandas_profiling"
   ]
  },
  {
   "cell_type": "code",
   "execution_count": 2,
   "metadata": {
    "id": "fGUCktKXxoOm"
   },
   "outputs": [],
   "source": [
    "# 載入繪圖相關套件\n",
    "import plotly.express as px\n",
    "import plotly.graph_objects as go\n",
    "import plotly.figure_factory as ff\n",
    "from plotly.subplots import make_subplots\n",
    "import matplotlib.pyplot as plt\n",
    "%matplotlib inline\n",
    "import seaborn as sns"
   ]
  },
  {
   "cell_type": "code",
   "execution_count": 3,
   "metadata": {
    "id": "Dmj1GgTCxoOn"
   },
   "outputs": [],
   "source": [
    "# 載入資料處理相關套件\n",
    "from pandas_profiling import ProfileReport\n",
    "import numpy as np \n",
    "import pandas as pd "
   ]
  },
  {
   "cell_type": "code",
   "execution_count": 4,
   "metadata": {
    "_cell_guid": "79c7e3d0-c299-4dcb-8224-4455121ee9b0",
    "_uuid": "d629ff2d2480ee46fbb7e2d37f6b5fab8052498a",
    "id": "lyLURpeXxoOo",
    "outputId": "332e2a69-1f38-4fde-bcb5-29414910181e"
   },
   "outputs": [
    {
     "data": {
      "text/html": [
       "<div>\n",
       "<style scoped>\n",
       "    .dataframe tbody tr th:only-of-type {\n",
       "        vertical-align: middle;\n",
       "    }\n",
       "\n",
       "    .dataframe tbody tr th {\n",
       "        vertical-align: top;\n",
       "    }\n",
       "\n",
       "    .dataframe thead th {\n",
       "        text-align: right;\n",
       "    }\n",
       "</style>\n",
       "<table border=\"1\" class=\"dataframe\">\n",
       "  <thead>\n",
       "    <tr style=\"text-align: right;\">\n",
       "      <th></th>\n",
       "      <th>show_id</th>\n",
       "      <th>type</th>\n",
       "      <th>title</th>\n",
       "      <th>director</th>\n",
       "      <th>cast</th>\n",
       "      <th>country</th>\n",
       "      <th>date_added</th>\n",
       "      <th>release_year</th>\n",
       "      <th>rating</th>\n",
       "      <th>duration</th>\n",
       "      <th>listed_in</th>\n",
       "      <th>description</th>\n",
       "    </tr>\n",
       "  </thead>\n",
       "  <tbody>\n",
       "    <tr>\n",
       "      <th>0</th>\n",
       "      <td>81145628</td>\n",
       "      <td>Movie</td>\n",
       "      <td>Norm of the North: King Sized Adventure</td>\n",
       "      <td>Richard Finn, Tim Maltby</td>\n",
       "      <td>Alan Marriott, Andrew Toth, Brian Dobson, Cole...</td>\n",
       "      <td>United States, India, South Korea, China</td>\n",
       "      <td>September 9, 2019</td>\n",
       "      <td>2019</td>\n",
       "      <td>TV-PG</td>\n",
       "      <td>90 min</td>\n",
       "      <td>Children &amp; Family Movies, Comedies</td>\n",
       "      <td>Before planning an awesome wedding for his gra...</td>\n",
       "    </tr>\n",
       "    <tr>\n",
       "      <th>1</th>\n",
       "      <td>80117401</td>\n",
       "      <td>Movie</td>\n",
       "      <td>Jandino: Whatever it Takes</td>\n",
       "      <td>NaN</td>\n",
       "      <td>Jandino Asporaat</td>\n",
       "      <td>United Kingdom</td>\n",
       "      <td>September 9, 2016</td>\n",
       "      <td>2016</td>\n",
       "      <td>TV-MA</td>\n",
       "      <td>94 min</td>\n",
       "      <td>Stand-Up Comedy</td>\n",
       "      <td>Jandino Asporaat riffs on the challenges of ra...</td>\n",
       "    </tr>\n",
       "    <tr>\n",
       "      <th>2</th>\n",
       "      <td>70234439</td>\n",
       "      <td>TV Show</td>\n",
       "      <td>Transformers Prime</td>\n",
       "      <td>NaN</td>\n",
       "      <td>Peter Cullen, Sumalee Montano, Frank Welker, J...</td>\n",
       "      <td>United States</td>\n",
       "      <td>September 8, 2018</td>\n",
       "      <td>2013</td>\n",
       "      <td>TV-Y7-FV</td>\n",
       "      <td>1 Season</td>\n",
       "      <td>Kids' TV</td>\n",
       "      <td>With the help of three human allies, the Autob...</td>\n",
       "    </tr>\n",
       "    <tr>\n",
       "      <th>3</th>\n",
       "      <td>80058654</td>\n",
       "      <td>TV Show</td>\n",
       "      <td>Transformers: Robots in Disguise</td>\n",
       "      <td>NaN</td>\n",
       "      <td>Will Friedle, Darren Criss, Constance Zimmer, ...</td>\n",
       "      <td>United States</td>\n",
       "      <td>September 8, 2018</td>\n",
       "      <td>2016</td>\n",
       "      <td>TV-Y7</td>\n",
       "      <td>1 Season</td>\n",
       "      <td>Kids' TV</td>\n",
       "      <td>When a prison ship crash unleashes hundreds of...</td>\n",
       "    </tr>\n",
       "    <tr>\n",
       "      <th>4</th>\n",
       "      <td>80125979</td>\n",
       "      <td>Movie</td>\n",
       "      <td>#realityhigh</td>\n",
       "      <td>Fernando Lebrija</td>\n",
       "      <td>Nesta Cooper, Kate Walsh, John Michael Higgins...</td>\n",
       "      <td>United States</td>\n",
       "      <td>September 8, 2017</td>\n",
       "      <td>2017</td>\n",
       "      <td>TV-14</td>\n",
       "      <td>99 min</td>\n",
       "      <td>Comedies</td>\n",
       "      <td>When nerdy high schooler Dani finally attracts...</td>\n",
       "    </tr>\n",
       "  </tbody>\n",
       "</table>\n",
       "</div>"
      ],
      "text/plain": [
       "    show_id     type                                    title  \\\n",
       "0  81145628    Movie  Norm of the North: King Sized Adventure   \n",
       "1  80117401    Movie               Jandino: Whatever it Takes   \n",
       "2  70234439  TV Show                       Transformers Prime   \n",
       "3  80058654  TV Show         Transformers: Robots in Disguise   \n",
       "4  80125979    Movie                             #realityhigh   \n",
       "\n",
       "                   director  \\\n",
       "0  Richard Finn, Tim Maltby   \n",
       "1                       NaN   \n",
       "2                       NaN   \n",
       "3                       NaN   \n",
       "4          Fernando Lebrija   \n",
       "\n",
       "                                                cast  \\\n",
       "0  Alan Marriott, Andrew Toth, Brian Dobson, Cole...   \n",
       "1                                   Jandino Asporaat   \n",
       "2  Peter Cullen, Sumalee Montano, Frank Welker, J...   \n",
       "3  Will Friedle, Darren Criss, Constance Zimmer, ...   \n",
       "4  Nesta Cooper, Kate Walsh, John Michael Higgins...   \n",
       "\n",
       "                                    country         date_added  release_year  \\\n",
       "0  United States, India, South Korea, China  September 9, 2019          2019   \n",
       "1                            United Kingdom  September 9, 2016          2016   \n",
       "2                             United States  September 8, 2018          2013   \n",
       "3                             United States  September 8, 2018          2016   \n",
       "4                             United States  September 8, 2017          2017   \n",
       "\n",
       "     rating  duration                           listed_in  \\\n",
       "0     TV-PG    90 min  Children & Family Movies, Comedies   \n",
       "1     TV-MA    94 min                     Stand-Up Comedy   \n",
       "2  TV-Y7-FV  1 Season                            Kids' TV   \n",
       "3     TV-Y7  1 Season                            Kids' TV   \n",
       "4     TV-14    99 min                            Comedies   \n",
       "\n",
       "                                         description  \n",
       "0  Before planning an awesome wedding for his gra...  \n",
       "1  Jandino Asporaat riffs on the challenges of ra...  \n",
       "2  With the help of three human allies, the Autob...  \n",
       "3  When a prison ship crash unleashes hundreds of...  \n",
       "4  When nerdy high schooler Dani finally attracts...  "
      ]
     },
     "execution_count": 4,
     "metadata": {},
     "output_type": "execute_result"
    }
   ],
   "source": [
    "#載入資料集\n",
    "df = pd.read_csv(\"netflix_titles.csv\")\n",
    "#檢視資料的項目\n",
    "df.head()"
   ]
  },
  {
   "cell_type": "code",
   "execution_count": 5,
   "metadata": {
    "id": "x8zkcEoSxoOp",
    "outputId": "c3e8fdbd-3b5e-4a02-dec4-8977c6332820"
   },
   "outputs": [
    {
     "name": "stdout",
     "output_type": "stream",
     "text": [
      "<class 'pandas.core.frame.DataFrame'>\n",
      "RangeIndex: 6234 entries, 0 to 6233\n",
      "Data columns (total 12 columns):\n",
      " #   Column        Non-Null Count  Dtype \n",
      "---  ------        --------------  ----- \n",
      " 0   show_id       6234 non-null   int64 \n",
      " 1   type          6234 non-null   object\n",
      " 2   title         6234 non-null   object\n",
      " 3   director      4265 non-null   object\n",
      " 4   cast          5664 non-null   object\n",
      " 5   country       5758 non-null   object\n",
      " 6   date_added    6223 non-null   object\n",
      " 7   release_year  6234 non-null   int64 \n",
      " 8   rating        6224 non-null   object\n",
      " 9   duration      6234 non-null   object\n",
      " 10  listed_in     6234 non-null   object\n",
      " 11  description   6234 non-null   object\n",
      "dtypes: int64(2), object(10)\n",
      "memory usage: 584.6+ KB\n"
     ]
    }
   ],
   "source": [
    "#查看資料集\n",
    "df.info()"
   ]
  },
  {
   "cell_type": "markdown",
   "metadata": {
    "id": "sZaJJ-rQxoOq"
   },
   "source": [
    "# 導入pandas-profiling\n",
    "\n",
    "import pandas_profiling\n",
    "\n",
    "生成的數據報告\n",
    "\n",
    "data是需要生成報告的數據，DataFrame型別\n",
    "\n",
    "pandas_profiling.ProfileReport(data)\n",
    "\n",
    "導出報告\n",
    "\n",
    "pfr = pandas_profiling.ProfileReport(data)\n",
    "pfr.to_file('report.html')"
   ]
  },
  {
   "cell_type": "code",
   "execution_count": null,
   "metadata": {
    "id": "aObrV19oxoOr"
   },
   "outputs": [
    {
     "data": {
      "application/vnd.jupyter.widget-view+json": {
       "model_id": "7ab98cd256f44fe9aba63ae3320eb073",
       "version_major": 2,
       "version_minor": 0
      },
      "text/plain": [
       "HBox(children=(HTML(value='Summarize dataset'), FloatProgress(value=0.0, max=25.0), HTML(value='')))"
      ]
     },
     "metadata": {},
     "output_type": "display_data"
    },
    {
     "name": "stdout",
     "output_type": "stream",
     "text": [
      "\n"
     ]
    },
    {
     "data": {
      "application/vnd.jupyter.widget-view+json": {
       "model_id": "d60d1c072a894dc099bf158c9aaadd6f",
       "version_major": 2,
       "version_minor": 0
      },
      "text/plain": [
       "HBox(children=(HTML(value='Generate report structure'), FloatProgress(value=0.0, max=1.0), HTML(value='')))"
      ]
     },
     "metadata": {},
     "output_type": "display_data"
    },
    {
     "name": "stdout",
     "output_type": "stream",
     "text": [
      "\n"
     ]
    },
    {
     "data": {
      "application/vnd.jupyter.widget-view+json": {
       "model_id": "5306ec5d6f104346b0d782b2feed9149",
       "version_major": 2,
       "version_minor": 0
      },
      "text/plain": [
       "HBox(children=(HTML(value='Render widgets'), FloatProgress(value=0.0, max=1.0), HTML(value='')))"
      ]
     },
     "metadata": {},
     "output_type": "display_data"
    }
   ],
   "source": [
    "#生成資料集的報告, 可以用來檢核可視化結果是否正確\n",
    "report= ProfileReport(df, title='Netflix Profile Report', explorative=True)\n",
    "#report.to_file('Netflix.html')\n",
    "#report.to_widgets()\n",
    "#report.to_notebook_iframe()"
   ]
  },
  {
   "cell_type": "markdown",
   "metadata": {
    "id": "cVWuMhFpxoOv"
   },
   "source": [
    "# 資料清洗\n",
    "\n",
    "先確認缺失值狀況"
   ]
  },
  {
   "cell_type": "code",
   "execution_count": null,
   "metadata": {
    "id": "lOvxXQ8sxoOv",
    "outputId": "9d562e8f-c360-4d8b-98fb-1402a4265721"
   },
   "outputs": [],
   "source": [
    "# 功能：計算axis=0上的不同觀察結果, 主要是 Non NA\n",
    "df.nunique()"
   ]
  },
  {
   "cell_type": "code",
   "execution_count": null,
   "metadata": {
    "id": "eyikVYmFxoOw",
    "outputId": "b36eed89-9743-417c-c747-f75d22a53ffc"
   },
   "outputs": [],
   "source": [
    "#計算缺失值\n",
    "df.isna().sum()"
   ]
  },
  {
   "cell_type": "markdown",
   "metadata": {
    "id": "-jw_nKmcxoOw"
   },
   "source": [
    "### 修正 \"rating\" 這個欄位上的缺失狀況"
   ]
  },
  {
   "cell_type": "code",
   "execution_count": null,
   "metadata": {
    "id": "OmRSA1q7xoOw",
    "outputId": "277e6a2b-ba1a-4e9f-f3d8-ab6b36e23a04"
   },
   "outputs": [],
   "source": [
    "df['rating'].unique()"
   ]
  },
  {
   "cell_type": "code",
   "execution_count": null,
   "metadata": {
    "id": "ccm3wRbnxoOw",
    "outputId": "46e8c390-c5ef-42f4-aba3-8be5918b89ff"
   },
   "outputs": [],
   "source": [
    "df[df['rating'].isnull()]"
   ]
  },
  {
   "cell_type": "markdown",
   "metadata": {
    "id": "GEiAQnB6xoOx"
   },
   "source": [
    "# 基於 Netflix shows,我們可以嘗試使用 replacements"
   ]
  },
  {
   "cell_type": "code",
   "execution_count": null,
   "metadata": {
    "id": "k161P3jnxoOx",
    "outputId": "e507bef7-d598-470c-bfd7-256190fbe62d"
   },
   "outputs": [],
   "source": [
    "rating_replacements = {\n",
    "    211: 'TV-14',\n",
    "    2411: 'TV-14',\n",
    "    3288: 'PG-13',\n",
    "    4056: 'TV-G',\n",
    "    4402: 'TV-G',\n",
    "    4403: 'TV-G',\n",
    "    4706: 'TV-14',\n",
    "    5015: 'TV-14',\n",
    "    5234: 'TV-14',\n",
    "    6231: 'TV-Y'\n",
    "}\n",
    "\n",
    "for id, rate in rating_replacements.items():\n",
    "    df.iloc[id, 8] = rate\n",
    "    \n",
    "df['rating'].isna().sum()"
   ]
  },
  {
   "cell_type": "markdown",
   "metadata": {
    "id": "gOFsWnWlxoOx"
   },
   "source": [
    "### 為了簡單處理, 先行丟棄director 跟 cast\n",
    "\n",
    "cast: 太多異常值, 因為太多演員"
   ]
  },
  {
   "cell_type": "code",
   "execution_count": null,
   "metadata": {
    "id": "OOzhW3-kxoOy",
    "outputId": "521fc94c-95f5-4240-dcf2-dbf828c9b850"
   },
   "outputs": [],
   "source": [
    "df = df.drop(['director', 'cast'], axis=1)\n",
    "df.columns"
   ]
  },
  {
   "cell_type": "markdown",
   "metadata": {
    "id": "P486IslkxoOy"
   },
   "source": [
    "### 修正date_added 缺失狀況 "
   ]
  },
  {
   "cell_type": "code",
   "execution_count": null,
   "metadata": {
    "id": "0tzu9D44xoOz",
    "outputId": "0bfd19d5-b514-44fb-8bc3-a8b959d99f63"
   },
   "outputs": [],
   "source": [
    "df[df['date_added'].isna()]"
   ]
  },
  {
   "cell_type": "markdown",
   "metadata": {
    "id": "P6kkPFh7xoOz"
   },
   "source": [
    "I have search for them in the internet and is dificult to find the `date_added`to Netlix, so i will drop them, as they are only 11 rows"
   ]
  },
  {
   "cell_type": "code",
   "execution_count": null,
   "metadata": {
    "id": "DvMzKmsIxoOz"
   },
   "outputs": [],
   "source": [
    "df = df[df['date_added'].notna()]\n",
    "df['country'].mode()[0]"
   ]
  },
  {
   "cell_type": "markdown",
   "metadata": {
    "id": "bSg7Uno5xoO0"
   },
   "source": [
    "### 修正country 類別的狀況"
   ]
  },
  {
   "cell_type": "code",
   "execution_count": null,
   "metadata": {
    "id": "jXqfyvxfxoO0"
   },
   "outputs": [],
   "source": [
    "df['country'] = df['country'].fillna(df['country'].mode()[0])"
   ]
  },
  {
   "cell_type": "markdown",
   "metadata": {
    "id": "Rjh4fwPNxoO0"
   },
   "source": [
    "### 確認缺失值的處理是否完整"
   ]
  },
  {
   "cell_type": "code",
   "execution_count": null,
   "metadata": {
    "id": "Y4zBnkrdxoO0",
    "outputId": "27dd1817-cc5d-4cf7-f441-b179be97af9b"
   },
   "outputs": [],
   "source": [
    "df.isna().sum()"
   ]
  },
  {
   "cell_type": "markdown",
   "metadata": {
    "id": "mPGPjpGUxoO1"
   },
   "source": [
    "## 產生新的特徵"
   ]
  },
  {
   "cell_type": "code",
   "execution_count": null,
   "metadata": {
    "id": "RKBxbPZSxoO1",
    "outputId": "9d5fd892-7b45-4272-be09-bfff1bae6292"
   },
   "outputs": [],
   "source": [
    "df.head()"
   ]
  },
  {
   "cell_type": "markdown",
   "metadata": {
    "id": "J4-lh7QZxoO2"
   },
   "source": [
    "### 利用日期相加取得新的年月資料\n",
    "\n",
    "我們將從date_add中獲取年份和月份，以便我們可以比較最有價值的月份在Show realse與Netflix我們新增日期的部分"
   ]
  },
  {
   "cell_type": "code",
   "execution_count": null,
   "metadata": {
    "id": "NYMleS-WxoO2",
    "outputId": "a754ba4a-a46c-437d-8137-15225d42d0bb"
   },
   "outputs": [],
   "source": [
    "df['year_added'] = df['date_added'].apply(lambda x: x.split(\" \")[-1])\n",
    "df['year_added'].head()"
   ]
  },
  {
   "cell_type": "code",
   "execution_count": null,
   "metadata": {
    "id": "oXQtLYPfxoO2",
    "outputId": "fd0296c3-4000-406a-9fb0-98ec19774344"
   },
   "outputs": [],
   "source": [
    "df['month_added'] = df['date_added'].apply(lambda x: x.split(\" \")[0])\n",
    "df['month_added'].head()"
   ]
  },
  {
   "cell_type": "code",
   "execution_count": null,
   "metadata": {
    "id": "o2deBni4xoO2"
   },
   "outputs": [],
   "source": [
    "### 根據評分顯示目標\n",
    "\n",
    "這可能很有趣，表明目標主要是productions"
   ]
  },
  {
   "cell_type": "code",
   "execution_count": null,
   "metadata": {
    "id": "_nxCwXnixoO3"
   },
   "outputs": [],
   "source": [
    "ratings_ages = {\n",
    "    'TV-PG': 'Older Kids',\n",
    "    'TV-MA': 'Adults',\n",
    "    'TV-Y7-FV': 'Older Kids',\n",
    "    'TV-Y7': 'Older Kids',\n",
    "    'TV-14': 'Teens',\n",
    "    'R': 'Adults',\n",
    "    'TV-Y': 'Kids',\n",
    "    'NR': 'Adults',\n",
    "    'PG-13': 'Teens',\n",
    "    'TV-G': 'Kids',\n",
    "    'PG': 'Older Kids',\n",
    "    'G': 'Kids',\n",
    "    'UR': 'Adults',\n",
    "    'NC-17': 'Adults'\n",
    "}"
   ]
  },
  {
   "cell_type": "code",
   "execution_count": null,
   "metadata": {
    "id": "jAxKcUEoxoO3",
    "outputId": "cbb96668-879a-4c81-fd59-c6443e9ca612"
   },
   "outputs": [],
   "source": [
    "df['target_ages'] = df['rating'].replace(ratings_ages)\n",
    "df['target_ages'].unique()"
   ]
  },
  {
   "cell_type": "markdown",
   "metadata": {
    "id": "8kYdcge0xoO3"
   },
   "source": [
    "### Country \n",
    "\n",
    "在某些條目中，國家具有多個值。所以將在第一列中添加一個新列，以便我們檢查witch區域是否有更多作品"
   ]
  },
  {
   "cell_type": "code",
   "execution_count": null,
   "metadata": {
    "id": "Ge8lIIkaxoO4",
    "outputId": "290ae066-2b67-4ca4-dd10-7416ea33a017"
   },
   "outputs": [],
   "source": [
    "# Lets retrieve just the first country\n",
    "df['principal_country'] = df['country'].apply(lambda x: x.split(\",\")[0])\n",
    "df['principal_country'].head()"
   ]
  },
  {
   "cell_type": "markdown",
   "metadata": {
    "id": "81Fntq6VxoO4"
   },
   "source": [
    "## 修正日期型別"
   ]
  },
  {
   "cell_type": "code",
   "execution_count": null,
   "metadata": {
    "id": "CYXTOgjyxoO4",
    "outputId": "87ee61d8-3fe4-4f3b-fdb4-4aec89800a75"
   },
   "outputs": [],
   "source": [
    "df.dtypes"
   ]
  },
  {
   "cell_type": "code",
   "execution_count": null,
   "metadata": {
    "id": "ht_rjGF1xoO5"
   },
   "outputs": [],
   "source": [
    "# type should be a category\n",
    "df['type'] = pd.Categorical(df['type'])\n",
    "# target_ages is another category (4 classes)\n",
    "df['target_ages'] = pd.Categorical(df['target_ages'], categories=['Kids', 'Older Kids', 'Teens', 'Adults'])\n",
    "# Year added should be integer so we can compare with `released_year`\n",
    "df['year_added'] = pd.to_numeric(df['year_added'])"
   ]
  },
  {
   "cell_type": "code",
   "execution_count": null,
   "metadata": {
    "id": "D3jI95uCxoO5",
    "outputId": "32b264fb-2ef4-4596-8bbc-1f285df8fd03"
   },
   "outputs": [],
   "source": [
    "df.dtypes"
   ]
  },
  {
   "cell_type": "markdown",
   "metadata": {
    "id": "l8q-lqKmxoO5"
   },
   "source": [
    "# 資料視覺化"
   ]
  },
  {
   "cell_type": "code",
   "execution_count": null,
   "metadata": {
    "id": "yiCHOwRdxoO5",
    "outputId": "c93e5da7-e892-41fb-f6be-b6b3eb62942e"
   },
   "outputs": [],
   "source": [
    "df.head()"
   ]
  },
  {
   "cell_type": "code",
   "execution_count": null,
   "metadata": {
    "id": "nsEj-UCJxoO6",
    "outputId": "07d27d2b-1374-4c15-9169-34bf2b63d191"
   },
   "outputs": [],
   "source": [
    "df['genre'] = df['listed_in'].apply(lambda x :  x.replace(' ,',',').replace(', ',',').split(',')) \n",
    "df['genre'].head()"
   ]
  },
  {
   "cell_type": "code",
   "execution_count": null,
   "metadata": {
    "id": "i_rElw7pxoO6",
    "outputId": "a60cc668-cb90-45d5-e866-c43ff9748b5b"
   },
   "outputs": [],
   "source": [
    "movie_df = df[df['type'] == 'Movie']\n",
    "show_df = df[df['type'] == 'TV Show']\n",
    "\n",
    "show_df.head()"
   ]
  },
  {
   "cell_type": "markdown",
   "metadata": {
    "id": "IdkuJmW6xoO6"
   },
   "source": [
    "# TV shows 跟 Movies的比例"
   ]
  },
  {
   "cell_type": "code",
   "execution_count": null,
   "metadata": {},
   "outputs": [],
   "source": [
    "df['type'].value_counts().reset_index()"
   ]
  },
  {
   "cell_type": "code",
   "execution_count": null,
   "metadata": {
    "id": "yVpQsnKAxoO6",
    "outputId": "523f7bd7-df1a-4dc8-9b23-cdc59ffd66f9"
   },
   "outputs": [],
   "source": [
    "fig = px.pie(df['type'].value_counts().reset_index(), values='type', names='index')\n",
    "fig.update_traces(textposition='inside', textinfo='percent+label')\n",
    "fig.show()"
   ]
  },
  {
   "cell_type": "code",
   "execution_count": null,
   "metadata": {
    "id": "2k1e1Sb_xoPR"
   },
   "outputs": [],
   "source": [
    "#新增rating 的資料子集\n",
    "#方便做年齡層的分布查詢\n",
    "def generate_rating_df(df):\n",
    "    rating_df = df.groupby(['rating', 'target_ages']).agg({'show_id': 'count'}).reset_index()\n",
    "    rating_df = rating_df[rating_df['show_id'] != 0]\n",
    "    rating_df.columns = ['rating', 'target_ages', 'counts']\n",
    "    rating_df = rating_df.sort_values('target_ages')\n",
    "    return rating_df"
   ]
  },
  {
   "cell_type": "code",
   "execution_count": null,
   "metadata": {
    "id": "DJ07R73ExoPS",
    "outputId": "58c338e2-eb1f-4213-a7ef-107bfb85f5d5"
   },
   "outputs": [],
   "source": [
    "rating_df = generate_rating_df(df)\n",
    "fig = px.bar(rating_df, x='rating', y='counts', color='target_ages')\n",
    "fig.show()"
   ]
  },
  {
   "cell_type": "code",
   "execution_count": null,
   "metadata": {},
   "outputs": [],
   "source": [
    "show_rating_df\n",
    "show_rating_df['target_ages'].values\n",
    "np.arange(show_rating_df['target_ages'].nunique())"
   ]
  },
  {
   "cell_type": "code",
   "execution_count": null,
   "metadata": {
    "id": "ygEVd1f7xoPS",
    "outputId": "184b47c0-6323-43ee-8413-dc791ec12ffa"
   },
   "outputs": [],
   "source": [
    "#針對影集或是歌劇\n",
    "movie_rating_df = generate_rating_df(movie_df)\n",
    "show_rating_df = generate_rating_df(show_df)\n",
    "\n",
    "fig = make_subplots(rows=1, cols=2, specs=[[{\"type\": \"pie\"}, {\"type\": \"pie\"}]])\n",
    "\n",
    "fig.add_trace(\n",
    "    go.Pie(labels=movie_rating_df['target_ages'], values=movie_rating_df['counts']),\n",
    "    row=1, col=1\n",
    ")\n",
    "\n",
    "fig.add_trace(\n",
    "    go.Pie( labels=show_rating_df['target_ages'], values=show_rating_df['counts']),\n",
    "           row=1, col=2\n",
    ")\n",
    "\n",
    "fig.update_traces(textposition='inside', hole=0.3, hoverinfo=\"label+percent+name\")\n",
    "fig.update_layout(\n",
    "    title_text=\"Rating distribution by Type of content\",\n",
    "    # Add annotations in the center of the donut pies.\n",
    "    annotations=[dict(text='Movies', x=0.18, y=0.5, font_size=12, showarrow=False),\n",
    "                 dict(text='TV Shows', x=0.83, y=0.5, font_size=12, showarrow=False)])\n",
    "fig.show()"
   ]
  },
  {
   "cell_type": "code",
   "execution_count": null,
   "metadata": {
    "id": "MjBXFT1qxoPT",
    "outputId": "921c0b8c-0dfe-4ba4-fa75-c6901d436622"
   },
   "outputs": [],
   "source": [
    "#按國別分別顯示影集與歌劇的產出分布,使用圓餅圖\n",
    "country_df = df['principal_country'].value_counts().reset_index()\n",
    "country_df = country_df[country_df['principal_country'] /  country_df['principal_country'].sum() > 0.01]\n",
    "\n",
    "fig = px.pie(country_df, values='principal_country', names='index')\n",
    "fig.update_traces(textposition='inside', textinfo='percent+label')\n",
    "fig.show()"
   ]
  },
  {
   "cell_type": "code",
   "execution_count": null,
   "metadata": {
    "id": "Ow3eMdrvxoPT",
    "outputId": "21a4f0f5-20a9-4fb3-bcf2-945d32fab7e3"
   },
   "outputs": [],
   "source": [
    "#按國別分別顯示影集與歌劇的產出分布,使用歷史分布\n",
    "fig = px.histogram(df, x='principal_country')\n",
    "fig.update_xaxes(categoryorder='total descending')\n",
    "fig.show()"
   ]
  },
  {
   "cell_type": "markdown",
   "metadata": {
    "id": "YuLZKw0qxoPU"
   },
   "source": [
    "## 發佈內容\n",
    "我們可以看到，在過去的幾年中，內容製作的數量在增加"
   ]
  },
  {
   "cell_type": "code",
   "execution_count": null,
   "metadata": {},
   "outputs": [],
   "source": [
    "print(released_year_df )\n",
    "print(added_year_df)"
   ]
  },
  {
   "cell_type": "code",
   "execution_count": null,
   "metadata": {
    "id": "ZfNLa2KixoPU",
    "outputId": "95e78a9e-ddd6-4db7-e9df-659790d26524"
   },
   "outputs": [],
   "source": [
    "released_year_df = df.loc[df['release_year'] > 2010].groupby(['release_year', 'type']).agg({'show_id': 'count'}).reset_index()\n",
    "added_year_df = df.loc[df['year_added'] > 2010].groupby(['year_added', 'type']).agg({'show_id': 'count'}).reset_index()\n",
    "\n",
    "fig = go.Figure()\n",
    "fig.add_trace(go.Scatter( \n",
    "    x=released_year_df.loc[released_year_df['type'] == 'Movie']['release_year'], \n",
    "    y=released_year_df.loc[released_year_df['type'] == 'Movie']['show_id'],\n",
    "    mode='lines+markers',\n",
    "    name='Movie: Released Year',\n",
    "    marker_color='green',\n",
    "))\n",
    "fig.add_trace(go.Scatter( \n",
    "    x=released_year_df.loc[released_year_df['type'] == 'TV Show']['release_year'], \n",
    "    y=released_year_df.loc[released_year_df['type'] == 'TV Show']['show_id'],\n",
    "    mode='lines+markers',\n",
    "    name='TV Show: Released Year',\n",
    "    marker_color='darkgreen',\n",
    "))\n",
    "fig.add_trace(go.Scatter( \n",
    "    x=added_year_df.loc[added_year_df['type'] == 'Movie']['year_added'], \n",
    "    y=added_year_df.loc[added_year_df['type'] == 'Movie']['show_id'],\n",
    "    mode='lines+markers',\n",
    "    name='Movie: Year Added',\n",
    "    marker_color='orange',\n",
    "))\n",
    "fig.add_trace(go.Scatter( \n",
    "    x=added_year_df.loc[added_year_df['type'] == 'TV Show']['year_added'], \n",
    "    y=added_year_df.loc[added_year_df['type'] == 'TV Show']['show_id'],\n",
    "    mode='lines+markers',\n",
    "    name='TV Show: Year Added',\n",
    "    marker_color='darkorange',\n",
    "))\n",
    "fig.update_xaxes(categoryorder='total descending')\n",
    "fig.show()"
   ]
  },
  {
   "cell_type": "code",
   "execution_count": null,
   "metadata": {
    "id": "3DI8OPR3xoPW",
    "outputId": "79c5b411-436b-4439-cfcf-c8a8dc6cd83e"
   },
   "outputs": [],
   "source": [
    "\n",
    "from scipy.stats import norm\n",
    "\n",
    "sns.distplot(df.loc[df['release_year'] > 2000, 'release_year'], fit=norm, kde=False)\n",
    "\n",
    "#displot()集合了matplotlib的hist()與核函數估計kdeplot的功能，\n",
    "#增加了rugplot分佈觀測條顯示與利用scipy庫fit擬合參數分佈的新穎用途。\n",
    "#fit：控制擬合的參數分佈圖形，能夠直觀地評估它與觀察數據的對應關係(黑色線條為確定的分佈)"
   ]
  },
  {
   "cell_type": "markdown",
   "metadata": {
    "id": "x8rcXq3axoPZ"
   },
   "source": [
    "## 建立內容類型的數據框"
   ]
  },
  {
   "cell_type": "code",
   "execution_count": null,
   "metadata": {
    "id": "790bYRMxxoPa"
   },
   "outputs": [],
   "source": [
    "#導入SKLEARN的前處理套件, 將元素進行二元變換 , 輸入的資料會轉換成一個 一維 classes_\n",
    "#每組資料會轉換成和 classes_ 相同大小的一維陣列\n",
    "#如果資料有對應到 classes_  就為 1 否則為 0\n",
    "\n",
    "from sklearn.preprocessing import MultiLabelBinarizer "
   ]
  },
  {
   "cell_type": "code",
   "execution_count": null,
   "metadata": {
    "id": "KT3kpjSmxoPa"
   },
   "outputs": [],
   "source": [
    "def calculate_mlb(series):\n",
    "    mlb = MultiLabelBinarizer()\n",
    "    mlb_df = pd.DataFrame(mlb.fit_transform(series), columns=mlb.classes_, index=series.index)\n",
    "    return mlb_df"
   ]
  },
  {
   "cell_type": "code",
   "execution_count": null,
   "metadata": {
    "id": "Gly1mVObxoPb"
   },
   "outputs": [],
   "source": [
    "#如何在csv文件中將一列拆分為單獨的列\n",
    "def top_genres(df, title='Top ones'):\n",
    "    genres_df = calculate_mlb(df['genre'])\n",
    "    tdata = genres_df.sum().sort_values(ascending=False)\n",
    "    print(tdata)\n",
    "    \n",
    "    fig = go.Figure()\n",
    "    fig.add_trace(go.Bar(\n",
    "        x=tdata.index,\n",
    "        y=tdata.values,\n",
    "    ))\n",
    "    fig.update_xaxes(categoryorder='total descending')\n",
    "    fig.update_layout(title=title)\n",
    "    fig.show()"
   ]
  },
  {
   "cell_type": "code",
   "execution_count": null,
   "metadata": {
    "id": "yo770vFKxoPb",
    "outputId": "aa78f14a-5d89-4a4f-e94f-e023e5653e51"
   },
   "outputs": [],
   "source": [
    "top_genres(movie_df, title='Top Movies Genres')"
   ]
  },
  {
   "cell_type": "code",
   "execution_count": null,
   "metadata": {
    "id": "NYZBuoeGxoPb",
    "outputId": "9dad3544-fd0e-40da-ed2f-fafb0cea4394"
   },
   "outputs": [],
   "source": [
    "top_genres(show_df, title='Top TV Shows Genres')"
   ]
  },
  {
   "cell_type": "code",
   "execution_count": null,
   "metadata": {
    "id": "--VM_hUuxoPd",
    "outputId": "77276bcd-4fb5-45a5-8d8a-9d294330f16f"
   },
   "outputs": [],
   "source": [
    "#如何在csv文件中將一列拆分為單獨的列\n",
    "genres_df = calculate_mlb(movie_df['genre'])\n",
    "\n",
    "movie_corr = genres_df.corr()\n",
    "movie_mask = np.zeros_like(movie_corr, dtype=np.bool)\n",
    "movie_mask[np.triu_indices_from(movie_mask)] = True\n",
    "fig, ax = plt.subplots(figsize=(10, 7))\n",
    "pl = sns.heatmap(movie_corr,annot=True,fmt=\".2f\", mask=movie_mask,cmap= \"coolwarm\",center=0, vmax=1, vmin=-1, linewidths=.5,\n",
    "                  cbar_kws={\"shrink\": 0.6,\"extend\":\"both\",\"label\":\"correlation\"},annot_kws={'size': 7})\n",
    "plt.show()"
   ]
  },
  {
   "cell_type": "code",
   "execution_count": null,
   "metadata": {
    "id": "tT7GaRtCxoPd",
    "outputId": "b42ff69d-ec29-403d-ddda-32ff821f787c"
   },
   "outputs": [],
   "source": [
    "genres_df = calculate_mlb(show_df['genre'])\n",
    "\n",
    "show_corr = genres_df.corr()\n",
    "show_mask = np.zeros_like(show_corr, dtype=np.bool)\n",
    "show_mask[np.triu_indices_from(show_mask)] = True\n",
    "fig, ax = plt.subplots(figsize=(10, 7))\n",
    "pl =sns.heatmap(show_corr,annot=True,fmt=\".2f\", mask=show_mask,cmap= \"coolwarm\",center=0, vmax=1, vmin=-1, linewidths=.5,\n",
    "                  cbar_kws={\"shrink\": 0.6,\"extend\":\"both\",\"label\":\"correlation\"},annot_kws={'size': 7})\n",
    "plt.show()"
   ]
  },
  {
   "cell_type": "code",
   "execution_count": null,
   "metadata": {
    "id": "zIHEowONxoPe",
    "outputId": "437ac914-8844-4274-b80b-51ef74b7fb5e"
   },
   "outputs": [],
   "source": [
    "#載入文字雲套件\n",
    "!pip install wordcloud"
   ]
  },
  {
   "cell_type": "code",
   "execution_count": null,
   "metadata": {
    "id": "yzxFqqs0xoPe",
    "outputId": "09a930e6-7126-4245-d134-58a8f179d484"
   },
   "outputs": [],
   "source": [
    "#使用文字雲, 找出最多被使用在資料集上的描述\n",
    "#對文本數據中出現頻率較高的“關鍵詞”在視覺上的突出呈現，形成關鍵詞的渲染形成類似雲一樣的彩色圖片，從而一眼就可以領略文本數據的主要表達意思\n",
    "from wordcloud import WordCloud\n",
    "#print(movie_df['genre'])\n",
    "text = str(list(movie_df['genre'])).replace(',', '').replace('[', '').replace(\"'\", '').replace(']', '')\n",
    "#print(text)\n",
    "plt.rcParams['figure.figsize'] = (15, 15)\n",
    "wordcloud = WordCloud(background_color = 'white', width = 1200,  height = 1200, max_words = 121).generate(text)\n",
    "plt.imshow(wordcloud)\n",
    "plt.axis('off')\n",
    "plt.show()"
   ]
  },
  {
   "cell_type": "code",
   "execution_count": null,
   "metadata": {},
   "outputs": [],
   "source": [
    "##將背景設為蘋果Logo\n",
    "from wordcloud import WordCloud\n",
    "from PIL import Image\n",
    "#print(movie_df['genre'])\n",
    "text = str(list(movie_df['genre'])).replace(',', '').replace('[', '').replace(\"'\", '').replace(']', '')\n",
    "#print(text)\n",
    "plt.rcParams['figure.figsize'] = (15, 15)\n",
    "mask=np.array(Image.open(\".\\\\Final-Netflix\\\\apple.jpg\"))\n",
    "wordcloud = WordCloud(background_color = 'white',mask=mask,  max_words = 121).generate(text)\n",
    "plt.imshow(wordcloud)\n",
    "plt.axis('off')\n",
    "#plt.savefig(\"apple_word_cloud.png\",dpi=360)\n",
    "plt.show()"
   ]
  },
  {
   "cell_type": "markdown",
   "metadata": {
    "id": "YlMKazZ8xoPf"
   },
   "source": [
    "### 分析TV SHOW系列持續時間"
   ]
  },
  {
   "cell_type": "code",
   "execution_count": null,
   "metadata": {
    "id": "cXLToh3axoPf",
    "outputId": "63f42407-1b4b-4162-f381-6e50b6ca8b9c"
   },
   "outputs": [],
   "source": [
    "fig = px.histogram(x=show_df['duration'])\n",
    "fig.update_xaxes(categoryorder=\"total descending\")\n",
    "fig.update_layout(\n",
    "    title=\"Distribution of shows duration\",\n",
    "    xaxis_title=\"Duration of the Show\",\n",
    ")\n",
    "fig.show()"
   ]
  },
  {
   "cell_type": "code",
   "execution_count": null,
   "metadata": {
    "id": "j6dCuddLxoPf"
   },
   "outputs": [],
   "source": []
  }
 ],
 "metadata": {
  "colab": {
   "name": "PYTHON資料科學期末專題(2)_進階目標.ipynb",
   "provenance": []
  },
  "kernelspec": {
   "display_name": "Python 3",
   "language": "python",
   "name": "python3"
  },
  "language_info": {
   "codemirror_mode": {
    "name": "ipython",
    "version": 3
   },
   "file_extension": ".py",
   "mimetype": "text/x-python",
   "name": "python",
   "nbconvert_exporter": "python",
   "pygments_lexer": "ipython3",
   "version": "3.8.5"
  }
 },
 "nbformat": 4,
 "nbformat_minor": 1
}
