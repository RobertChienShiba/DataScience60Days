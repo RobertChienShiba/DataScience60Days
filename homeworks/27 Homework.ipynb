{
 "cells": [
  {
   "cell_type": "markdown",
   "metadata": {
    "id": "H-z4L8J371GO"
   },
   "source": [
    "## 作業:\n",
    "今天學到不同統計量之間特性，  \n",
    "試著分析男生女生身高資料，  \n",
    "試著回答下面的問題:  \n",
    "Q1:試著用今天所教的內容，如何描述這兩組資料的樣態?    \n",
    "Q2: 請問男生和女生在平均身高上誰比較高?   \n",
    "Q3:請問第二題的答案和日常生活中觀察的一致嗎? 如果不一致，你覺得原因可能為何?    \n",
    "上述問題透過  python 語法進行運算，\n",
    "並將上述答案填寫在 (google 表單)[https://docs.google.com/forms/d/e/1FAIpQLSdDzwpeJl8YLPwZaW8pBZvtuXY9kIbbZLqxcXyzFaoraV5JEA/viewform ]\n",
    "![](作業資料圖檔.PNG)"
   ]
  },
  {
   "cell_type": "code",
   "execution_count": 1,
   "metadata": {
    "id": "yz28_IgkYdBW"
   },
   "outputs": [],
   "source": [
    "# library\n",
    "import matplotlib.pyplot as plt\n",
    "import numpy as np\n",
    "import pandas as pd\n",
    "from scipy import stats\n",
    "import math\n",
    "import statistics\n",
    "import seaborn as sns"
   ]
  },
  {
   "cell_type": "code",
   "execution_count": 9,
   "metadata": {
    "id": "3NtzuWtt71GU",
    "outputId": "be21c4eb-a6c2-4674-aadd-d378bafc0428"
   },
   "outputs": [],
   "source": [
    "## 輸入資料\n",
    "boys=[164,175,183,173,176,159,165,165,169,151,156,163,169,144,170,177,165,160,164,171]\n",
    "girls=[169,170,162,154,183,173,169,167,170,185,162,175,168,151,181,170,182,156,159,160]"
   ]
  },
  {
   "cell_type": "markdown",
   "metadata": {},
   "source": [
    "# Q1:試著用今天所教的內容，如何描述這兩組資料的樣態?"
   ]
  },
  {
   "cell_type": "code",
   "execution_count": 33,
   "metadata": {
    "id": "uDM9AzrY71GW",
    "outputId": "f4e7ede3-fda9-4858-f122-af7c3b3f3ad4"
   },
   "outputs": [
    {
     "name": "stdout",
     "output_type": "stream",
     "text": [
      "男生身高平均數: 165.95\n",
      "女生身高平均數: 168.3\n",
      "男生身高中位數: 165.0\n",
      "女生身高中位數: 169.0\n",
      "男生身高眾數: 165\n",
      "女生身高眾數: 170\n",
      "男生身高變異數: 84.8921052631579\n",
      "女生身高變異數: 95.37894736842104\n",
      "男生身高標準差: 9.213691185575838\n",
      "女生身高標準差: 9.766214587465353\n",
      "男女身高相關係數: [[1.         0.12008131]\n",
      " [0.12008131 1.        ]]\n",
      "男生身高上四分位數: 162.25\n",
      "女生身高下四分位數: 173.5\n",
      "男生身高偏態: -0.4713212731737694\n",
      "女生身高偏態: 0.059853211293650746\n",
      "男生身高峰態: 0.19395882957876243\n",
      "女生身高峰態: -0.8203607083948947\n"
     ]
    }
   ],
   "source": [
    "##平均數\n",
    "print(\"男生身高平均數:\",np.mean(boys))\n",
    "print(\"女生身高平均數:\",np.mean(girls))\n",
    "##中位數\n",
    "print(\"男生身高中位數:\",np.median(boys))\n",
    "print(\"女生身高中位數:\",np.median(girls))\n",
    "##眾數\n",
    "print(\"男生身高眾數:\",stats.mode(boys)[0][0])\n",
    "print(\"女生身高眾數:\",stats.mode(girls)[0][0])\n",
    "##變異數\n",
    "print(\"男生身高變異數:\",np.var(boys,ddof=1))\n",
    "print(\"女生身高變異數:\",np.var(girls,ddof=1))\n",
    "##標準差\n",
    "print(\"男生身高標準差:\",np.std(boys,ddof=1))\n",
    "print(\"女生身高標準差:\",np.std(girls,ddof=1))\n",
    "##相關系數\n",
    "print(\"男女身高相關係數:\",np.corrcoef(boys,girls))\n",
    "##四分位數\n",
    "print(\"男生身高上四分位數:\",np.quantile(boys,0.25))\n",
    "print(\"女生身高下四分位數:\",np.quantile(girls,0.75))\n",
    "##偏態\n",
    "print(\"男生身高偏態:\",stats.skew(boys))\n",
    "print(\"女生身高偏態:\",stats.skew(girls))\n",
    "##峰態\n",
    "print(\"男生身高峰態:\",stats.kurtosis(boys))\n",
    "print(\"女生身高峰態:\",stats.kurtosis(girls))"
   ]
  },
  {
   "cell_type": "markdown",
   "metadata": {},
   "source": [
    "# Q2: 請問男生和女生在平均身高上誰比較高? "
   ]
  },
  {
   "cell_type": "code",
   "execution_count": 35,
   "metadata": {
    "id": "xH_GNsC271GW",
    "outputId": "f4b4c46a-0d8b-421c-9c70-0ebf2aab0e31"
   },
   "outputs": [
    {
     "name": "stdout",
     "output_type": "stream",
     "text": [
      "男生身高平均數: 165.95\n",
      "女生身高平均數: 168.3\n",
      "女生較高\n"
     ]
    }
   ],
   "source": [
    "print(\"男生身高平均數:\",np.mean(boys))\n",
    "print(\"女生身高平均數:\",np.mean(girls))\n",
    "print(\"女生較高\")"
   ]
  },
  {
   "cell_type": "code",
   "execution_count": 49,
   "metadata": {},
   "outputs": [
    {
     "data": {
      "image/png": "[encoded data removed]",
      "text/plain": [
       "<Figure size 432x288 with 1 Axes>"
      ]
     },
     "metadata": {
      "needs_background": "light"
     },
     "output_type": "display_data"
    }
   ],
   "source": [
    "plt.hist(boys,alpha=.4)\n",
    "plt.hist(girls,alpha=.4)\n",
    "plt.title(\"all sample\")\n",
    "plt.axvline(x=np.median(boys),ls=\"-.\",color=\"blue\",lw=2,alpha=.5)\n",
    "plt.axvline(x=np.median(girls),ls=\"-.\",color=\"red\",lw=2,alpha=.5)\n",
    "plt.show()"
   ]
  },
  {
   "cell_type": "markdown",
   "metadata": {},
   "source": [
    "# Q3:請問第二題的答案和日常生活中觀察的一致嗎? 如果不一致，你覺得原因可能為何?"
   ]
  },
  {
   "cell_type": "markdown",
   "metadata": {
    "id": "xAzZU0Dv71GX",
    "outputId": "e2017c09-70fc-41ab-99c0-9d41fe21629d"
   },
   "source": [
    "Ans:和平常觀察的不太一樣,通常男生的平均身高會高於女生,這筆資料之所以會呈現女生較高可能因為與抽樣方法有關,導致抽樣有誤差\n",
    "使得樣本和母體的資料趨勢有差異,舉例來說可能女生的資料是從女籃隊中所擷取"
   ]
  }
 ],
 "metadata": {
  "colab": {
   "collapsed_sections": [],
   "name": "作業.ipynb",
   "provenance": []
  },
  "kernelspec": {
   "display_name": "Python 3",
   "language": "python",
   "name": "python3"
  },
  "language_info": {
   "codemirror_mode": {
    "name": "ipython",
    "version": 3
   },
   "file_extension": ".py",
   "mimetype": "text/x-python",
   "name": "python",
   "nbconvert_exporter": "python",
   "pygments_lexer": "ipython3",
   "version": "3.8.5"
  }
 },
 "nbformat": 4,
 "nbformat_minor": 1
}
