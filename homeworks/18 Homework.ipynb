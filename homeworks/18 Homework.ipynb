{
 "cells": [
  {
   "cell_type": "markdown",
   "metadata": {},
   "source": [
    "# 作業⽬標：\n",
    "• 了解效能優化⽅法"
   ]
  },
  {
   "cell_type": "markdown",
   "metadata": {},
   "source": [
    "# 作業重點：\n",
    "• 優化有很多⾯相可以切入，⽬前可以先以投影片⽅法為主"
   ]
  },
  {
   "cell_type": "markdown",
   "metadata": {},
   "source": [
    "# 作業題⽬\n",
    "1. 在速度較慢的時候，可以先從哪邊開始檢查？\n",
    "2. 資料過⼤時應採取什麼⽅式讓記憶體占⽤量下降？"
   ]
  },
  {
   "cell_type": "markdown",
   "metadata": {},
   "source": [
    "#1 Ans\n",
    "1.在處理資料時,使用Pandas的函數速度會優於自定義的函數\n",
    "2.若需要使用到聚合時,apply的速度會優於transform\n",
    "3.在篩選資料時,使用isin函數能提高效能會優於apply\n",
    "4.在資料儲存或讀取時,使用pkl檔是最快的，是平常讀csv的6倍"
   ]
  },
  {
   "cell_type": "markdown",
   "metadata": {},
   "source": [
    "#2 Ans\n",
    "1.將欄位的型態降級，不需要存太多元素在一個數字中,舉例來說將整數型態 int 改成 uint 減少記憶體正用空間\\\n",
    "原因是因為原本有 100 個欄位是 int64，經過降級變成了 100 個欄位的 uint16，因此只用了 1/4 倍左右的空間"
   ]
  }
 ],
 "metadata": {
  "kernelspec": {
   "display_name": "Python 3",
   "language": "python",
   "name": "python3"
  },
  "language_info": {
   "codemirror_mode": {
    "name": "ipython",
    "version": 3
   },
   "file_extension": ".py",
   "mimetype": "text/x-python",
   "name": "python",
   "nbconvert_exporter": "python",
   "pygments_lexer": "ipython3",
   "version": "3.8.5"
  }
 },
 "nbformat": 4,
 "nbformat_minor": 4
}
